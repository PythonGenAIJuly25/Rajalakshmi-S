{
  "cells": [
    {
      "cell_type": "markdown",
      "metadata": {
        "id": "rBiUj54OY3eL"
      },
      "source": [
        "# Module 3: Data Structures Assignments\n",
        "## Lesson 3.1: Lists\n",
        "### Assignment 1: Creating and Accessing Lists\n",
        "\n",
        "Create a list of the first 20 positive integers. Print the list.\n",
        "\n",
        "### Assignment 2: Accessing List Elements\n",
        "\n",
        "Print the first, middle, and last elements of the list created in Assignment 1.\n",
        "\n",
        "### Assignment 3: List Slicing\n",
        "\n",
        "Print the first five elements, the last five elements, and the elements from index 5 to 15 of the list created in Assignment 1.\n",
        "\n",
        "### Assignment 4: List Comprehensions\n",
        "\n",
        "Create a new list containing the squares of the first 10 positive integers using a list comprehension. Print the new list.\n",
        "\n",
        "### Assignment 5: Filtering Lists\n",
        "\n",
        "Create a new list containing only the even numbers from the list created in Assignment 1 using a list comprehension. Print the new list.\n",
        "\n",
        "### Assignment 6: List Methods\n",
        "\n",
        "Create a list of random numbers and sort it in ascending and descending order. Remove the duplicates from the list and print the modified list.\n",
        "\n",
        "### Assignment 7: Nested Lists\n",
        "\n",
        "Create a nested list representing a 3x3 matrix and print the matrix. Access and print the element at the second row and third column.\n",
        "\n",
        "### Assignment 8: List of Dictionaries\n",
        "\n",
        "Create a list of dictionaries where each dictionary represents a student with keys 'name' and 'score'. Sort the list of dictionaries by the 'score' in descending order and print the sorted list.\n",
        "\n",
        "### Assignment 9: Matrix Transposition\n",
        "\n",
        "Write a function that takes a 3x3 matrix (nested list) as input and returns its transpose. Print the original and transposed matrices.\n",
        "\n",
        "### Assignment 10: Flattening a Nested List\n",
        "\n",
        "Write a function that takes a nested list and flattens it into a single list. Print the original and flattened lists.\n",
        "\n",
        "### Assignment 11: List Manipulation\n",
        "\n",
        "Create a list of the first 10 positive integers. Remove the elements at indices 2, 4, and 6, and insert the element '99' at index 5. Print the modified list.\n",
        "\n",
        "### Assignment 12: List Zipping\n",
        "\n",
        "Create two lists of the same length. Use the `zip` function to combine these lists into a list of tuples and print the result.\n",
        "\n",
        "### Assignment 13: List Reversal\n",
        "\n",
        "Write a function that takes a list and returns a new list with the elements in reverse order. Print the original and reversed lists.\n",
        "\n",
        "### Assignment 14: List Rotation\n",
        "\n",
        "Write a function that rotates a list by n positions. Print the original and rotated lists.\n",
        "\n",
        "### Assignment 15: List Intersection\n",
        "\n",
        "Write a function that takes two lists and returns a new list containing only the elements that are present in both lists. Print the intersected list."
      ],
      "id": "rBiUj54OY3eL"
    },
    {
      "cell_type": "code",
      "execution_count": null,
      "metadata": {
        "id": "bELwAxA8Y3eO",
        "outputId": "a870fa9b-1d98-4b88-d088-7c035f749422",
        "colab": {
          "base_uri": "https://localhost:8080/"
        }
      },
      "outputs": [
        {
          "output_type": "stream",
          "name": "stdout",
          "text": [
            "First 20 positive integers: [1, 2, 3, 4, 5, 6, 7, 8, 9, 10, 11, 12, 13, 14, 15, 16, 17, 18, 19, 20]\n"
          ]
        }
      ],
      "source": [
        "#Assignment 1: Creating and Accessing Lists\n",
        "numbers = list(range(1, 21))\n",
        "print(\"First 20 positive integers:\", numbers)"
      ],
      "id": "bELwAxA8Y3eO"
    },
    {
      "cell_type": "code",
      "source": [
        "#Assignment 2: Accessing List Elements\n",
        "first = numbers[0]\n",
        "middle = numbers[len(numbers)//2]   # middle element\n",
        "last = numbers[-1]\n",
        "\n",
        "print(\"First element:\", first)\n",
        "print(\"Middle element:\", middle)\n",
        "print(\"Last element:\", last)"
      ],
      "metadata": {
        "id": "Gg8HB6LBAuVT",
        "outputId": "e1c14a39-7cb7-4f0a-f43b-b2a6992cb757",
        "colab": {
          "base_uri": "https://localhost:8080/"
        }
      },
      "id": "Gg8HB6LBAuVT",
      "execution_count": null,
      "outputs": [
        {
          "output_type": "stream",
          "name": "stdout",
          "text": [
            "First element: 1\n",
            "Middle element: 11\n",
            "Last element: 20\n"
          ]
        }
      ]
    },
    {
      "cell_type": "code",
      "source": [
        "#Assignment 3:List Slicing\n",
        "print(\"First 5 elements:\", numbers[:5])\n",
        "print(\"Last 5 elements:\", numbers[-5:])\n",
        "print(\"Elements from index 5 to 15:\", numbers[5:16])"
      ],
      "metadata": {
        "id": "GQSu2b1PAul-",
        "outputId": "77325673-4e69-4059-985b-2056858eb775",
        "colab": {
          "base_uri": "https://localhost:8080/"
        }
      },
      "id": "GQSu2b1PAul-",
      "execution_count": null,
      "outputs": [
        {
          "output_type": "stream",
          "name": "stdout",
          "text": [
            "First 5 elements: [1, 2, 3, 4, 5]\n",
            "Last 5 elements: [16, 17, 18, 19, 20]\n",
            "Elements from index 5 to 15: [6, 7, 8, 9, 10, 11, 12, 13, 14, 15, 16]\n"
          ]
        }
      ]
    },
    {
      "cell_type": "code",
      "source": [
        "#Assignment 4:List Comprehensions\n",
        "squares = [x**2 for x in range(1, 11)]\n",
        "print(\"Squares of first 10 integers:\", squares)"
      ],
      "metadata": {
        "id": "B8OENHwbAuqP",
        "outputId": "ba369153-fb75-4b16-d22d-3a8672aa3e52",
        "colab": {
          "base_uri": "https://localhost:8080/"
        }
      },
      "id": "B8OENHwbAuqP",
      "execution_count": null,
      "outputs": [
        {
          "output_type": "stream",
          "name": "stdout",
          "text": [
            "Squares of first 10 integers: [1, 4, 9, 16, 25, 36, 49, 64, 81, 100]\n"
          ]
        }
      ]
    },
    {
      "cell_type": "code",
      "source": [
        "#Assignment 5: Filtering Lists\n",
        "even_numbers = [x for x in numbers if x % 2 == 0]\n",
        "print(\"Even numbers:\", even_numbers)"
      ],
      "metadata": {
        "id": "NPnNrc3FAut-",
        "outputId": "1b162c96-4a27-4754-dc63-1c70e9339d8b",
        "colab": {
          "base_uri": "https://localhost:8080/"
        }
      },
      "id": "NPnNrc3FAut-",
      "execution_count": null,
      "outputs": [
        {
          "output_type": "stream",
          "name": "stdout",
          "text": [
            "Even numbers: [2, 4, 6, 8, 10, 12, 14, 16, 18, 20]\n"
          ]
        }
      ]
    },
    {
      "cell_type": "code",
      "source": [
        "#Assignment 6:List Methods\n",
        "random_numbers = [5, 3, 8, 5, 2, 8, 9, 1, 3]\n",
        "print(\"Original random list:\", random_numbers)\n",
        "\n",
        "# Sort ascending\n",
        "random_numbers.sort()\n",
        "print(\"Sorted ascending:\", random_numbers)\n",
        "\n",
        "# Sort descending\n",
        "random_numbers.sort(reverse=True)\n",
        "print(\"Sorted descending:\", random_numbers)\n",
        "\n",
        "# Remove duplicates\n",
        "unique_numbers = list(set(random_numbers))\n",
        "print(\"After removing duplicates:\", unique_numbers)\n"
      ],
      "metadata": {
        "id": "skz3cSmpAuxq",
        "outputId": "0d000c25-c170-448d-c95a-1845ff79caa1",
        "colab": {
          "base_uri": "https://localhost:8080/"
        }
      },
      "id": "skz3cSmpAuxq",
      "execution_count": null,
      "outputs": [
        {
          "output_type": "stream",
          "name": "stdout",
          "text": [
            "Original random list: [5, 3, 8, 5, 2, 8, 9, 1, 3]\n",
            "Sorted ascending: [1, 2, 3, 3, 5, 5, 8, 8, 9]\n",
            "Sorted descending: [9, 8, 8, 5, 5, 3, 3, 2, 1]\n",
            "After removing duplicates: [1, 2, 3, 5, 8, 9]\n"
          ]
        }
      ]
    },
    {
      "cell_type": "code",
      "source": [
        "#Assignment 7:Nested Lists\n",
        "matrix = [\n",
        "    [1, 2, 3],\n",
        "    [4, 5, 6],\n",
        "    [7, 8, 9]\n",
        "]\n",
        "\n",
        "print(\"Matrix:\")\n",
        "for row in matrix:\n",
        "    print(row)\n",
        "\n",
        "print(\"Element at 2nd row, 3rd column:\", matrix[1][2])"
      ],
      "metadata": {
        "id": "BCHcfHXnAu1V",
        "outputId": "08d45499-0ad2-4c84-a01c-753bfad16972",
        "colab": {
          "base_uri": "https://localhost:8080/"
        }
      },
      "id": "BCHcfHXnAu1V",
      "execution_count": null,
      "outputs": [
        {
          "output_type": "stream",
          "name": "stdout",
          "text": [
            "Matrix:\n",
            "[1, 2, 3]\n",
            "[4, 5, 6]\n",
            "[7, 8, 9]\n",
            "Element at 2nd row, 3rd column: 6\n"
          ]
        }
      ]
    },
    {
      "cell_type": "code",
      "source": [
        "#Assignment 8:\n",
        "students = [\n",
        "    {\"name\": \"Alice\", \"score\": 85},\n",
        "    {\"name\": \"Bob\", \"score\": 92},\n",
        "    {\"name\": \"Charlie\", \"score\": 78}\n",
        "]\n",
        "\n",
        "sorted_students = sorted(students, key=lambda x: x['score'], reverse=True)\n",
        "print(\"Students sorted by score (desc):\", sorted_students)"
      ],
      "metadata": {
        "id": "TXxFSvFtAu4_",
        "outputId": "ebc51b94-d6b8-4e20-b093-aa5054388255",
        "colab": {
          "base_uri": "https://localhost:8080/"
        }
      },
      "id": "TXxFSvFtAu4_",
      "execution_count": null,
      "outputs": [
        {
          "output_type": "stream",
          "name": "stdout",
          "text": [
            "Students sorted by score (desc): [{'name': 'Bob', 'score': 92}, {'name': 'Alice', 'score': 85}, {'name': 'Charlie', 'score': 78}]\n"
          ]
        }
      ]
    },
    {
      "cell_type": "code",
      "source": [
        "#Assignment 9:Matrix Transposition\n",
        "def transpose(matrix):\n",
        "    return [[matrix[j][i] for j in range(len(matrix))] for i in range(len(matrix[0]))]\n",
        "\n",
        "original_matrix = [\n",
        "    [1, 2, 3],\n",
        "    [4, 5, 6],\n",
        "    [7, 8, 9]\n",
        "]\n",
        "\n",
        "transposed_matrix = transpose(original_matrix)\n",
        "\n",
        "print(\"Original matrix:\", original_matrix)\n",
        "print(\"Transposed matrix:\", transposed_matrix)\n"
      ],
      "metadata": {
        "id": "t7kL-trPAu8U",
        "outputId": "ed7ba263-c669-4552-8893-6bddad37925a",
        "colab": {
          "base_uri": "https://localhost:8080/"
        }
      },
      "id": "t7kL-trPAu8U",
      "execution_count": null,
      "outputs": [
        {
          "output_type": "stream",
          "name": "stdout",
          "text": [
            "Original matrix: [[1, 2, 3], [4, 5, 6], [7, 8, 9]]\n",
            "Transposed matrix: [[1, 4, 7], [2, 5, 8], [3, 6, 9]]\n"
          ]
        }
      ]
    },
    {
      "cell_type": "code",
      "source": [
        "#Assignment 10:Flattening a Nested List\n",
        "def flatten(nested_list):\n",
        "    return [item for sublist in nested_list for item in sublist]\n",
        "\n",
        "nested = [[1, 2], [3, 4], [5, 6]]\n",
        "flat = flatten(nested)\n",
        "\n",
        "print(\"Original nested list:\", nested)\n",
        "print(\"Flattened list:\", flat)"
      ],
      "metadata": {
        "id": "oWPu4sylAu_0",
        "outputId": "b8c42ef1-334b-4e10-bb57-5a0d44d37e78",
        "colab": {
          "base_uri": "https://localhost:8080/"
        }
      },
      "id": "oWPu4sylAu_0",
      "execution_count": null,
      "outputs": [
        {
          "output_type": "stream",
          "name": "stdout",
          "text": [
            "Original nested list: [[1, 2], [3, 4], [5, 6]]\n",
            "Flattened list: [1, 2, 3, 4, 5, 6]\n"
          ]
        }
      ]
    },
    {
      "cell_type": "code",
      "source": [
        "#Assignment 11:List Manipulation\n",
        "nums = list(range(1, 11))  # [1,2,3,4,5,6,7,8,9,10]\n",
        "print(\"Original list:\", nums)\n",
        "\n",
        "# Remove indices 2, 4, 6 → remove from highest to lowest to avoid shifting\n",
        "for idx in sorted([2, 4, 6], reverse=True):\n",
        "    nums.pop(idx)\n",
        "\n",
        "# Insert 99 at index 5\n",
        "nums.insert(5, 99)\n",
        "\n",
        "print(\"Modified list:\", nums)"
      ],
      "metadata": {
        "id": "JF4XphaGBnm5",
        "outputId": "b854274b-a77e-4c29-c5e1-28765c316538",
        "colab": {
          "base_uri": "https://localhost:8080/"
        }
      },
      "id": "JF4XphaGBnm5",
      "execution_count": null,
      "outputs": [
        {
          "output_type": "stream",
          "name": "stdout",
          "text": [
            "Original list: [1, 2, 3, 4, 5, 6, 7, 8, 9, 10]\n",
            "Modified list: [1, 2, 4, 6, 8, 99, 9, 10]\n"
          ]
        }
      ]
    },
    {
      "cell_type": "code",
      "source": [
        "#Assignment 12\n",
        "list1 = [1, 2, 3, 4]\n",
        "list2 = ['a', 'b', 'c', 'd']\n",
        "\n",
        "zipped_list = list(zip(list1, list2))\n",
        "print(\"Zipped list:\", zipped_list)"
      ],
      "metadata": {
        "id": "GZH_tp4pBnzG",
        "outputId": "8f70b0f9-5871-469e-ae79-f92714473ebd",
        "colab": {
          "base_uri": "https://localhost:8080/"
        }
      },
      "id": "GZH_tp4pBnzG",
      "execution_count": null,
      "outputs": [
        {
          "output_type": "stream",
          "name": "stdout",
          "text": [
            "Zipped list: [(1, 'a'), (2, 'b'), (3, 'c'), (4, 'd')]\n"
          ]
        }
      ]
    },
    {
      "cell_type": "code",
      "source": [
        "#Assignment 13:\n",
        "def reverse_list(lst):\n",
        "    return lst[::-1]\n",
        "\n",
        "original_list = [10, 20, 30, 40, 50]\n",
        "reversed_list = reverse_list(original_list)\n",
        "\n",
        "print(\"Original list:\", original_list)\n",
        "print(\"Reversed list:\", reversed_list)"
      ],
      "metadata": {
        "id": "ryC8hHGmBn3n",
        "outputId": "77ce4934-3343-4b91-da04-fab0b295d56a",
        "colab": {
          "base_uri": "https://localhost:8080/"
        }
      },
      "id": "ryC8hHGmBn3n",
      "execution_count": null,
      "outputs": [
        {
          "output_type": "stream",
          "name": "stdout",
          "text": [
            "Original list: [10, 20, 30, 40, 50]\n",
            "Reversed list: [50, 40, 30, 20, 10]\n"
          ]
        }
      ]
    },
    {
      "cell_type": "code",
      "source": [
        "#Assignment 14: List Rotation\n",
        "def rotate_list(lst, n):\n",
        "    n = n % len(lst)  # handle n > len(lst)\n",
        "    return lst[-n:] + lst[:-n]\n",
        "\n",
        "original_list = [1, 2, 3, 4, 5]\n",
        "rotated_list = rotate_list(original_list, 2)\n",
        "\n",
        "print(\"Original list:\", original_list)\n",
        "print(\"List rotated by 2 positions:\", rotated_list)"
      ],
      "metadata": {
        "id": "kX24QwvkBn7J",
        "outputId": "612f49fc-c334-4039-ed66-235c75ac8950",
        "colab": {
          "base_uri": "https://localhost:8080/"
        }
      },
      "id": "kX24QwvkBn7J",
      "execution_count": null,
      "outputs": [
        {
          "output_type": "stream",
          "name": "stdout",
          "text": [
            "Original list: [1, 2, 3, 4, 5]\n",
            "List rotated by 2 positions: [4, 5, 1, 2, 3]\n"
          ]
        }
      ]
    },
    {
      "cell_type": "code",
      "source": [
        "#Assignment 15:List Intersection\n",
        "def list_intersection(list1, list2):\n",
        "    return [x for x in list1 if x in list2]\n",
        "\n",
        "a = [1, 2, 3, 4, 5]\n",
        "b = [4, 5, 6, 7, 8]\n",
        "\n",
        "intersection = list_intersection(a, b)\n",
        "print(\"List A:\", a)\n",
        "print(\"List B:\", b)\n",
        "print(\"Intersection:\", intersection)"
      ],
      "metadata": {
        "id": "xzsXqPORB2nQ",
        "outputId": "146b5cfd-802c-4951-dc84-b7f3999869c5",
        "colab": {
          "base_uri": "https://localhost:8080/"
        }
      },
      "id": "xzsXqPORB2nQ",
      "execution_count": null,
      "outputs": [
        {
          "output_type": "stream",
          "name": "stdout",
          "text": [
            "List A: [1, 2, 3, 4, 5]\n",
            "List B: [4, 5, 6, 7, 8]\n",
            "Intersection: [4, 5]\n"
          ]
        }
      ]
    }
  ],
  "metadata": {
    "kernelspec": {
      "display_name": "Python 3",
      "language": "python",
      "name": "python3"
    },
    "language_info": {
      "codemirror_mode": {
        "name": "ipython",
        "version": 3
      },
      "file_extension": ".py",
      "mimetype": "text/x-python",
      "name": "python",
      "nbconvert_exporter": "python",
      "pygments_lexer": "ipython3",
      "version": "3.9.7"
    },
    "colab": {
      "provenance": []
    }
  },
  "nbformat": 4,
  "nbformat_minor": 5
}