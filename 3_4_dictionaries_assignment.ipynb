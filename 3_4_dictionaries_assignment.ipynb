{
  "cells": [
    {
      "cell_type": "markdown",
      "metadata": {
        "id": "25DW5DDIY3im"
      },
      "source": [
        "# Module 3: Data Structures Assignments\n",
        "## Lesson 3.4: Dictionaries\n",
        "### Assignment 1: Creating and Accessing Dictionaries\n",
        "\n",
        "Create a dictionary with the first 10 positive integers as keys and their squares as values. Print the dictionary.\n",
        "\n",
        "### Assignment 2: Accessing Dictionary Elements\n",
        "\n",
        "Print the value of the key 5 and the keys of the dictionary created in Assignment 1.\n",
        "\n",
        "### Assignment 3: Dictionary Methods\n",
        "\n",
        "Add a new key-value pair (11, 121) to the dictionary created in Assignment 1 and then remove the key-value pair with key 1. Print the modified dictionary.\n",
        "\n",
        "### Assignment 4: Iterating Over Dictionaries\n",
        "\n",
        "Iterate over the dictionary created in Assignment 1 and print each key-value pair.\n",
        "\n",
        "### Assignment 5: Dictionary Comprehensions\n",
        "\n",
        "Create a new dictionary containing the cubes of the first 10 positive integers using a dictionary comprehension. Print the new dictionary.\n",
        "\n",
        "### Assignment 6: Merging Dictionaries\n",
        "\n",
        "Create two dictionaries: one with keys as the first 5 positive integers and values as their squares, and another with keys as the next 5 positive integers and values as their squares. Merge these dictionaries into a single dictionary and print it.\n",
        "\n",
        "### Assignment 7: Nested Dictionaries\n",
        "\n",
        "Create a nested dictionary representing a student with keys 'name', 'age', 'grades', where 'grades' is another dictionary with keys 'math', 'science', and 'english'. Print the nested dictionary.\n",
        "\n",
        "### Assignment 8: Dictionary of Lists\n",
        "\n",
        "Create a dictionary where the keys are the first 5 positive integers and the values are lists containing the first 5 multiples of the key. Print the dictionary.\n",
        "\n",
        "### Assignment 9: Dictionary of Tuples\n",
        "\n",
        "Create a dictionary where the keys are the first 5 positive integers and the values are tuples containing the key and its square. Print the dictionary.\n",
        "\n",
        "### Assignment 10: Dictionary and List Conversion\n",
        "\n",
        "Create a dictionary with the first 5 positive integers as keys and their squares as values. Convert the dictionary to a list of tuples and print it.\n",
        "\n",
        "### Assignment 11: Dictionary Filtering\n",
        "\n",
        "Create a dictionary with the first 10 positive integers as keys and their squares as values. Create a new dictionary containing only the key-value pairs where the key is even. Print the new dictionary.\n",
        "\n",
        "### Assignment 12: Dictionary Key and Value Transformation\n",
        "\n",
        "Create a dictionary with the first 5 positive integers as keys and their squares as values. Create a new dictionary with keys and values swapped. Print the new dictionary.\n",
        "\n",
        "### Assignment 13: Default Dictionary\n",
        "\n",
        "Create a default dictionary where each key has a default value of an empty list. Add some elements to the lists and print the dictionary.\n",
        "\n",
        "### Assignment 14: Counting with Dictionaries\n",
        "\n",
        "Write a function that takes a string and returns a dictionary with the count of each character in the string. Print the dictionary.\n",
        "\n",
        "### Assignment 15: Dictionary and JSON\n",
        "\n",
        "Create a dictionary representing a book with keys 'title', 'author', 'year', and 'genre'. Convert the dictionary to a JSON string and print it."
      ],
      "id": "25DW5DDIY3im"
    },
    {
      "cell_type": "code",
      "execution_count": 1,
      "metadata": {
        "colab": {
          "base_uri": "https://localhost:8080/"
        },
        "id": "tKZJwlLVY3ip",
        "outputId": "f89415b5-6aca-4b69-e827-4e92a9a935cf"
      },
      "outputs": [
        {
          "output_type": "stream",
          "name": "stdout",
          "text": [
            "Dictionary: {1: 1, 2: 4, 3: 9, 4: 16, 5: 25, 6: 36, 7: 49, 8: 64, 9: 81, 10: 100}\n"
          ]
        }
      ],
      "source": [
        "#Assignment 1: Creating and Accessing Dictionaries\n",
        "dict1 = {x: x**2 for x in range(1, 11)}\n",
        "print(\"Dictionary:\", dict1)"
      ],
      "id": "tKZJwlLVY3ip"
    },
    {
      "cell_type": "code",
      "source": [
        "#Assignment 2: Accessing Dictionary Elements\n",
        "print(\"Value for key 5:\", dict1[5])\n",
        "print(\"Keys of the dictionary:\", list(dict1.keys()))"
      ],
      "metadata": {
        "colab": {
          "base_uri": "https://localhost:8080/"
        },
        "id": "Dmf2zuRNY-yJ",
        "outputId": "8a5ecc44-ae70-4882-d7ba-e0f0dc3a8dce"
      },
      "id": "Dmf2zuRNY-yJ",
      "execution_count": 6,
      "outputs": [
        {
          "output_type": "stream",
          "name": "stdout",
          "text": [
            "Value for key 5: 25\n",
            "Keys of the dictionary: [2, 3, 4, 5, 6, 7, 8, 9, 10, 11]\n"
          ]
        }
      ]
    },
    {
      "cell_type": "code",
      "source": [
        "#Assignment 3: Dictionary Methods\n",
        "dict1[11] = 121      # add key-value pair\n",
        "dict1.pop(1)         # remove key 1\n",
        "print(\"Modified dictionary after adding 11 and removing 1:\", dict1)"
      ],
      "metadata": {
        "colab": {
          "base_uri": "https://localhost:8080/"
        },
        "id": "sAGsLTlNY-1b",
        "outputId": "1eb8b60f-75f5-4c6c-94cc-b5314c73e642"
      },
      "id": "sAGsLTlNY-1b",
      "execution_count": 5,
      "outputs": [
        {
          "output_type": "stream",
          "name": "stdout",
          "text": [
            "Modified dictionary after adding 11 and removing 1: {2: 4, 3: 9, 4: 16, 5: 25, 6: 36, 7: 49, 8: 64, 9: 81, 10: 100, 11: 121}\n"
          ]
        }
      ]
    },
    {
      "cell_type": "code",
      "source": [
        "#Assignment 4: Iterating Over Dictionaries\n",
        "print(\"Iterating over dictionary:\")\n",
        "for key, value in dict1.items():\n",
        "    print(f\"Key: {key}, Value: {value}\")"
      ],
      "metadata": {
        "colab": {
          "base_uri": "https://localhost:8080/"
        },
        "id": "gWejr4jNY-4f",
        "outputId": "550ebafe-2e70-41a3-b912-2171ba983a4e"
      },
      "id": "gWejr4jNY-4f",
      "execution_count": 4,
      "outputs": [
        {
          "output_type": "stream",
          "name": "stdout",
          "text": [
            "Iterating over dictionary:\n",
            "Key: 1, Value: 1\n",
            "Key: 2, Value: 4\n",
            "Key: 3, Value: 9\n",
            "Key: 4, Value: 16\n",
            "Key: 5, Value: 25\n",
            "Key: 6, Value: 36\n",
            "Key: 7, Value: 49\n",
            "Key: 8, Value: 64\n",
            "Key: 9, Value: 81\n",
            "Key: 10, Value: 100\n"
          ]
        }
      ]
    },
    {
      "cell_type": "code",
      "source": [
        "#Assignment 5: Dictionary Comprehensions\n",
        "cubes_dict = {x: x**3 for x in range(1, 11)}\n",
        "print(\"Cubes dictionary:\", cubes_dict)\n"
      ],
      "metadata": {
        "id": "pQRVUK2zY-7K"
      },
      "id": "pQRVUK2zY-7K",
      "execution_count": null,
      "outputs": []
    },
    {
      "cell_type": "code",
      "source": [
        "#Assignment 6: Merging Dictionaries\n",
        "dict_a = {x: x**2 for x in range(1, 6)}\n",
        "dict_b = {x: x**2 for x in range(6, 11)}\n",
        "merged_dict = {**dict_a, **dict_b}\n",
        "print(\"Merged dictionary:\", merged_dict)\n"
      ],
      "metadata": {
        "colab": {
          "base_uri": "https://localhost:8080/"
        },
        "id": "6IAWcWv5Y--E",
        "outputId": "428f0033-4f5d-46a3-c91e-c422420e5e08"
      },
      "id": "6IAWcWv5Y--E",
      "execution_count": 3,
      "outputs": [
        {
          "output_type": "stream",
          "name": "stdout",
          "text": [
            "Merged dictionary: {1: 1, 2: 4, 3: 9, 4: 16, 5: 25, 6: 36, 7: 49, 8: 64, 9: 81, 10: 100}\n"
          ]
        }
      ]
    },
    {
      "cell_type": "code",
      "source": [
        "#Assignment 7: Nested Dictionaries\n",
        "student = {\n",
        "    \"name\": \"Alice\",\n",
        "    \"age\": 20,\n",
        "    \"grades\": {\n",
        "        \"math\": 90,\n",
        "        \"science\": 85,\n",
        "        \"english\": 88\n",
        "    }\n",
        "}\n",
        "print(\"Nested dictionary:\", student)"
      ],
      "metadata": {
        "colab": {
          "base_uri": "https://localhost:8080/"
        },
        "id": "psSdh70pY_A3",
        "outputId": "8c888bae-5a61-4f51-a78f-2765a6f57e01"
      },
      "id": "psSdh70pY_A3",
      "execution_count": 15,
      "outputs": [
        {
          "output_type": "stream",
          "name": "stdout",
          "text": [
            "Nested dictionary: {'name': 'Alice', 'age': 20, 'grades': {'math': 90, 'science': 85, 'english': 88}}\n"
          ]
        }
      ]
    },
    {
      "cell_type": "code",
      "source": [
        "#Assignment 8: Dictionary of Lists\n",
        "dict_of_lists = {x: [x * i for i in range(1, 6)] for x in range(1, 6)}\n",
        "print(\"Dictionary of lists:\", dict_of_lists)"
      ],
      "metadata": {
        "colab": {
          "base_uri": "https://localhost:8080/"
        },
        "id": "3e5_nxF9Y_Dt",
        "outputId": "3f263529-3434-482a-ed35-e35869cdb93f"
      },
      "id": "3e5_nxF9Y_Dt",
      "execution_count": 14,
      "outputs": [
        {
          "output_type": "stream",
          "name": "stdout",
          "text": [
            "Dictionary of lists: {1: [1, 2, 3, 4, 5], 2: [2, 4, 6, 8, 10], 3: [3, 6, 9, 12, 15], 4: [4, 8, 12, 16, 20], 5: [5, 10, 15, 20, 25]}\n"
          ]
        }
      ]
    },
    {
      "cell_type": "code",
      "source": [
        "#Assignment 9: Dictionary of Tuples\n",
        "dict_of_tuples = {x: (x, x**2) for x in range(1, 6)}\n",
        "print(\"Dictionary of tuples:\", dict_of_tuples)"
      ],
      "metadata": {
        "colab": {
          "base_uri": "https://localhost:8080/"
        },
        "id": "i7EN5zxsY_HE",
        "outputId": "378e5681-fc0a-4a55-ecbd-86d3cd42a06a"
      },
      "id": "i7EN5zxsY_HE",
      "execution_count": 13,
      "outputs": [
        {
          "output_type": "stream",
          "name": "stdout",
          "text": [
            "Dictionary of tuples: {1: (1, 1), 2: (2, 4), 3: (3, 9), 4: (4, 16), 5: (5, 25)}\n"
          ]
        }
      ]
    },
    {
      "cell_type": "code",
      "source": [
        "#Assignment 10: Dictionary and List Conversion\n",
        "dict5 = {x: x**2 for x in range(1, 6)}\n",
        "list_of_tuples = list(dict5.items())\n",
        "print(\"List of tuples from dictionary:\", list_of_tuples)\n"
      ],
      "metadata": {
        "colab": {
          "base_uri": "https://localhost:8080/"
        },
        "id": "U9DNlfxrY_KE",
        "outputId": "85746d1f-7d2d-4baf-fcb5-ecd6f792eda9"
      },
      "id": "U9DNlfxrY_KE",
      "execution_count": 12,
      "outputs": [
        {
          "output_type": "stream",
          "name": "stdout",
          "text": [
            "List of tuples from dictionary: [(1, 1), (2, 4), (3, 9), (4, 16), (5, 25)]\n"
          ]
        }
      ]
    },
    {
      "cell_type": "code",
      "source": [
        "#Assignment 11: Dictionary Filtering\n",
        "dict10 = {x: x**2 for x in range(1, 11)}\n",
        "even_dict = {k: v for k, v in dict10.items() if k % 2 == 0}\n",
        "print(\"Filtered dictionary (even keys):\", even_dict)"
      ],
      "metadata": {
        "colab": {
          "base_uri": "https://localhost:8080/"
        },
        "id": "2du3_n3hY_NV",
        "outputId": "f90659d7-4fdb-47c7-c6a4-b77398e7fc8b"
      },
      "id": "2du3_n3hY_NV",
      "execution_count": 11,
      "outputs": [
        {
          "output_type": "stream",
          "name": "stdout",
          "text": [
            "Filtered dictionary (even keys): {2: 4, 4: 16, 6: 36, 8: 64, 10: 100}\n"
          ]
        }
      ]
    },
    {
      "cell_type": "code",
      "source": [
        "#Assignment 12: Dictionary Key and Value Transformation\n",
        "original_dict = {x: x**2 for x in range(1, 6)}\n",
        "swapped_dict = {v: k for k, v in original_dict.items()}\n",
        "print(\"Swapped dictionary:\", swapped_dict)\n"
      ],
      "metadata": {
        "colab": {
          "base_uri": "https://localhost:8080/"
        },
        "id": "HWUb7Z4HY_QU",
        "outputId": "faffcc23-283a-4505-c0bf-7a0ab3ee7050"
      },
      "id": "HWUb7Z4HY_QU",
      "execution_count": 9,
      "outputs": [
        {
          "output_type": "stream",
          "name": "stdout",
          "text": [
            "Swapped dictionary: {1: 1, 4: 2, 9: 3, 16: 4, 25: 5}\n"
          ]
        }
      ]
    },
    {
      "cell_type": "code",
      "source": [
        "from collections import defaultdict  # ✅ Import defaultdict\n",
        "\n",
        "# Assignment 13: Default Dictionary\n",
        "default_dict = defaultdict(list)\n",
        "default_dict[\"fruits\"].append(\"apple\")\n",
        "default_dict[\"fruits\"].append(\"banana\")\n",
        "default_dict[\"vegetables\"].append(\"carrot\")\n",
        "\n",
        "print(\"Default dictionary:\", dict(default_dict))"
      ],
      "metadata": {
        "colab": {
          "base_uri": "https://localhost:8080/"
        },
        "id": "VmuSrdJZY_TH",
        "outputId": "791286f7-7991-41fb-9520-74f1c5b1c908"
      },
      "id": "VmuSrdJZY_TH",
      "execution_count": 18,
      "outputs": [
        {
          "output_type": "stream",
          "name": "stdout",
          "text": [
            "Default dictionary: {'fruits': ['apple', 'banana'], 'vegetables': ['carrot']}\n"
          ]
        }
      ]
    },
    {
      "cell_type": "code",
      "source": [
        "#Assignment 14: Counting with Dictionaries\n",
        "def count_characters(s):\n",
        "    char_count = {}\n",
        "    for char in s:\n",
        "        char_count[char] = char_count.get(char, 0) + 1\n",
        "    return char_count\n",
        "\n",
        "sample_string = \"hello world\"\n",
        "print(\"Character count:\", count_characters(sample_string))"
      ],
      "metadata": {
        "colab": {
          "base_uri": "https://localhost:8080/"
        },
        "id": "qItpEwy4Y_WC",
        "outputId": "6aff7b75-a051-48b5-f923-c1eb4ff968c6"
      },
      "id": "qItpEwy4Y_WC",
      "execution_count": 8,
      "outputs": [
        {
          "output_type": "stream",
          "name": "stdout",
          "text": [
            "Character count: {'h': 1, 'e': 1, 'l': 3, 'o': 2, ' ': 1, 'w': 1, 'r': 1, 'd': 1}\n"
          ]
        }
      ]
    },
    {
      "cell_type": "code",
      "source": [
        "import json  # ✅ Import the JSON module first\n",
        "\n",
        "book = {\n",
        "    \"title\": \"Python 101\",\n",
        "    \"author\": \"John Doe\",\n",
        "    \"year\": 2025,\n",
        "    \"genre\": \"Programming\"\n",
        "}\n",
        "\n",
        "book_json = json.dumps(book)  # Convert dictionary to JSON string\n",
        "print(\"Book as JSON string:\", book_json)"
      ],
      "metadata": {
        "colab": {
          "base_uri": "https://localhost:8080/"
        },
        "id": "daXRDex5Y_YZ",
        "outputId": "0f5327b9-bbff-4fe4-83a6-abdb60807dca"
      },
      "id": "daXRDex5Y_YZ",
      "execution_count": 17,
      "outputs": [
        {
          "output_type": "stream",
          "name": "stdout",
          "text": [
            "Book as JSON string: {\"title\": \"Python 101\", \"author\": \"John Doe\", \"year\": 2025, \"genre\": \"Programming\"}\n"
          ]
        }
      ]
    }
  ],
  "metadata": {
    "kernelspec": {
      "display_name": "Python 3",
      "language": "python",
      "name": "python3"
    },
    "language_info": {
      "codemirror_mode": {
        "name": "ipython",
        "version": 3
      },
      "file_extension": ".py",
      "mimetype": "text/x-python",
      "name": "python",
      "nbconvert_exporter": "python",
      "pygments_lexer": "ipython3",
      "version": "3.9.7"
    },
    "colab": {
      "provenance": []
    }
  },
  "nbformat": 4,
  "nbformat_minor": 5
}