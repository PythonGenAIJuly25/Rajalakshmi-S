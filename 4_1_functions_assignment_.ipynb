{
  "cells": [
    {
      "cell_type": "markdown",
      "metadata": {
        "id": "DYEXWVJRc5Dt"
      },
      "source": [
        "# Module 4: Functions Assignments\n",
        "## Lesson 4.1: Defining Functions\n",
        "### Assignment 1: Simple Function\n",
        "\n",
        "Define a function that takes a single integer as input and returns its square. Test the function with different inputs.\n",
        "\n",
        "### Assignment 2: Multiple Arguments\n",
        "\n",
        "Define a function that takes two integers as input and returns their sum. Test the function with different inputs.\n",
        "\n",
        "### Assignment 3: Default Arguments\n",
        "\n",
        "Define a function that takes two integers as input and returns their sum. The second integer should have a default value of 5. Test the function with different inputs.\n",
        "\n",
        "### Assignment 4: Keyword Arguments\n",
        "\n",
        "Define a function that takes three named arguments: first_name, last_name, and age, and returns a formatted string. Test the function with different inputs.\n",
        "\n",
        "### Assignment 5: Variable-length Arguments\n",
        "\n",
        "Define a function that takes a variable number of integer arguments and returns their product. Test the function with different inputs.\n",
        "\n",
        "### Assignment 6: Nested Functions\n",
        "\n",
        "Define a function that contains another function inside it. The outer function should take two integers as input and return the result of the inner function, which multiplies the two integers. Test the function with different inputs.\n",
        "\n",
        "### Assignment 7: Returning Multiple Values\n",
        "\n",
        "Define a function that takes a single integer as input and returns the integer squared, cubed, and raised to the power of four. Test the function with different inputs.\n",
        "\n",
        "### Assignment 8: Recursive Function\n",
        "\n",
        "Define a recursive function that calculates the factorial of a given number. Test the function with different inputs.\n",
        "\n",
        "### Assignment 9: Lambda Function\n",
        "\n",
        "Define a lambda function that takes two integers as input and returns their sum. Test the lambda function with different inputs.\n",
        "\n",
        "### Assignment 10: Map Function\n",
        "\n",
        "Use the map function to apply a lambda function that squares each number in a list of integers. Test with different lists.\n",
        "\n",
        "### Assignment 11: Filter Function\n",
        "\n",
        "Use the filter function to filter out all odd numbers from a list of integers. Test with different lists.\n",
        "\n",
        "### Assignment 12: Function Decorator\n",
        "\n",
        "Define a decorator function that prints 'Executing function...' before executing a function and 'Function executed.' after executing it. Apply this decorator to a function that takes a list of integers and returns their sum. Test the decorated function with different lists.\n",
        "\n",
        "### Assignment 13: Function with *args and **kwargs\n",
        "\n",
        "Define a function that takes variable-length arguments and keyword arguments and prints them. Test the function with different inputs.\n",
        "\n",
        "### Assignment 14: Higher-Order Function\n",
        "\n",
        "Define a higher-order function that takes a function and a list of integers as arguments, and applies the function to each integer in the list. Test with different functions and lists.\n",
        "\n",
        "### Assignment 15: Function Documentation\n",
        "\n",
        "Define a function with a docstring that explains what the function does, its parameters, and its return value. Print the function's docstring."
      ],
      "id": "DYEXWVJRc5Dt"
    },
    {
      "cell_type": "code",
      "execution_count": 19,
      "metadata": {
        "colab": {
          "base_uri": "https://localhost:8080/"
        },
        "id": "X0_alQCBc5Dw",
        "outputId": "cef328dd-be4b-4d7b-d5cb-dae5e4541b3f"
      },
      "outputs": [
        {
          "output_type": "stream",
          "name": "stdout",
          "text": [
            "Square of 4: 16\n",
            "Square of 7: 49\n"
          ]
        }
      ],
      "source": [
        "#Assignment 1: Simple Function\n",
        "def square(num):\n",
        "    \"\"\"Return the square of a number.\"\"\"\n",
        "    return num ** 2\n",
        "\n",
        "print(\"Square of 4:\", square(4))\n",
        "print(\"Square of 7:\", square(7))"
      ],
      "id": "X0_alQCBc5Dw"
    },
    {
      "cell_type": "code",
      "source": [
        "#Assignment 2: Multiple Arguments\n",
        "def add(a, b):\n",
        "    \"\"\"Return the sum of two integers.\"\"\"\n",
        "    return a + b\n",
        "\n",
        "print(\"Sum of 3 and 5:\", add(3, 5))\n",
        "print(\"Sum of 10 and 20:\", add(10, 20))"
      ],
      "metadata": {
        "colab": {
          "base_uri": "https://localhost:8080/"
        },
        "id": "of7Khzhvc_cs",
        "outputId": "a1bc008d-f5b9-4525-d302-f74e975f3c8d"
      },
      "id": "of7Khzhvc_cs",
      "execution_count": 18,
      "outputs": [
        {
          "output_type": "stream",
          "name": "stdout",
          "text": [
            "Sum of 3 and 5: 8\n",
            "Sum of 10 and 20: 30\n"
          ]
        }
      ]
    },
    {
      "cell_type": "code",
      "source": [
        "#Assignment 3: Default Arguments\n",
        "def add_default(a, b=5):\n",
        "    \"\"\"Return the sum of two integers with default value for b.\"\"\"\n",
        "    return a + b\n",
        "\n",
        "print(\"Sum with default b:\", add_default(10))\n",
        "print(\"Sum with both values:\", add_default(10, 15))"
      ],
      "metadata": {
        "colab": {
          "base_uri": "https://localhost:8080/"
        },
        "id": "DvTovQAXc_pq",
        "outputId": "dff959e7-c0d4-4b71-8fee-7fdcd77248c7"
      },
      "id": "DvTovQAXc_pq",
      "execution_count": 17,
      "outputs": [
        {
          "output_type": "stream",
          "name": "stdout",
          "text": [
            "Sum with default b: 15\n",
            "Sum with both values: 25\n"
          ]
        }
      ]
    },
    {
      "cell_type": "code",
      "source": [
        "#Assignment 4: Keyword Arguments\n",
        "def format_person(first_name, last_name, age):\n",
        "    \"\"\"Return a formatted string with name and age.\"\"\"\n",
        "    return f\"{first_name} {last_name} is {age} years old.\"\n",
        "\n",
        "print(format_person(first_name=\"John\", last_name=\"Doe\", age=30))\n",
        "print(format_person(age=25, first_name=\"Alice\", last_name=\"Smith\"))\n"
      ],
      "metadata": {
        "colab": {
          "base_uri": "https://localhost:8080/"
        },
        "id": "JXjxPw1Xc_uA",
        "outputId": "3035bdb0-9f2f-4718-b9d9-cfd32639d6cd"
      },
      "id": "JXjxPw1Xc_uA",
      "execution_count": 23,
      "outputs": [
        {
          "output_type": "stream",
          "name": "stdout",
          "text": [
            "John Doe is 30 years old.\n",
            "Alice Smith is 25 years old.\n"
          ]
        }
      ]
    },
    {
      "cell_type": "code",
      "source": [
        "#Assignment 5: Variable-length Arguments\n",
        "def product(*args):\n",
        "    \"\"\"Return the product of all provided numbers.\"\"\"\n",
        "    result = 1\n",
        "    for num in args:\n",
        "        result *= num\n",
        "    return result\n",
        "\n",
        "print(\"Product of 2,3,4:\", product(2, 3, 4))\n",
        "print(\"Product of 5,6:\", product(5, 6))"
      ],
      "metadata": {
        "colab": {
          "base_uri": "https://localhost:8080/"
        },
        "id": "B8TOSbYlc_0R",
        "outputId": "2cecf45f-4074-4d1f-8c42-d604441650a1"
      },
      "id": "B8TOSbYlc_0R",
      "execution_count": 22,
      "outputs": [
        {
          "output_type": "stream",
          "name": "stdout",
          "text": [
            "Product of 2,3,4: 24\n",
            "Product of 5,6: 30\n"
          ]
        }
      ]
    },
    {
      "cell_type": "code",
      "source": [
        "#Assignment 6: Nested Functions\n",
        "def outer_multiply(a, b):\n",
        "    \"\"\"Outer function that uses an inner function to multiply two numbers.\"\"\"\n",
        "    def inner(x, y):\n",
        "        return x * y\n",
        "    return inner(a, b)\n",
        "\n",
        "print(\"Nested multiply 4*5:\", outer_multiply(4, 5))\n"
      ],
      "metadata": {
        "colab": {
          "base_uri": "https://localhost:8080/"
        },
        "id": "3nW9Axbnc_5_",
        "outputId": "9136b32c-9980-4b5a-9f2f-4988f876a822"
      },
      "id": "3nW9Axbnc_5_",
      "execution_count": 21,
      "outputs": [
        {
          "output_type": "stream",
          "name": "stdout",
          "text": [
            "Nested multiply 4*5: 20\n"
          ]
        }
      ]
    },
    {
      "cell_type": "code",
      "source": [
        "#Assignment 7: Returning Multiple Values\n",
        "def powers(n):\n",
        "    \"\"\"Return n squared, cubed, and to the power of 4.\"\"\"\n",
        "    return n**2, n**3, n**4\n",
        "\n",
        "sq, cube, power4 = powers(3)\n",
        "print(f\"3 squared: {sq}, cubed: {cube}, power4: {power4}\")"
      ],
      "metadata": {
        "colab": {
          "base_uri": "https://localhost:8080/"
        },
        "id": "MGfSS7qgc_-a",
        "outputId": "7f0dc4a0-09eb-466f-932e-495fa963ca7c"
      },
      "id": "MGfSS7qgc_-a",
      "execution_count": 20,
      "outputs": [
        {
          "output_type": "stream",
          "name": "stdout",
          "text": [
            "3 squared: 9, cubed: 27, power4: 81\n"
          ]
        }
      ]
    },
    {
      "cell_type": "code",
      "source": [
        "#Assignment 8: Recursive Function\n",
        "def factorial(n):\n",
        "    \"\"\"Recursive factorial function.\"\"\"\n",
        "    if n == 0 or n == 1:\n",
        "        return 1\n",
        "    else:\n",
        "        return n * factorial(n - 1)\n",
        "\n",
        "print(\"Factorial of 5:\", factorial(5))\n",
        "print(\"Factorial of 7:\", factorial(7))"
      ],
      "metadata": {
        "colab": {
          "base_uri": "https://localhost:8080/"
        },
        "id": "16NGsLscdADk",
        "outputId": "43a7f58c-65d8-426c-9816-46b8c4c4a8f4"
      },
      "id": "16NGsLscdADk",
      "execution_count": 11,
      "outputs": [
        {
          "output_type": "stream",
          "name": "stdout",
          "text": [
            "Factorial of 5: 120\n",
            "Factorial of 7: 5040\n"
          ]
        }
      ]
    },
    {
      "cell_type": "code",
      "source": [
        "#Assignment 9: Lambda Function\n",
        "sum_lambda = lambda x, y: x + y\n",
        "print(\"Lambda sum 10+15:\", sum_lambda(10, 15))\n"
      ],
      "metadata": {
        "colab": {
          "base_uri": "https://localhost:8080/"
        },
        "id": "SIx6KwBHdAIU",
        "outputId": "b6926b18-385c-4385-94e5-552316018582"
      },
      "id": "SIx6KwBHdAIU",
      "execution_count": 12,
      "outputs": [
        {
          "output_type": "stream",
          "name": "stdout",
          "text": [
            "Lambda sum 10+15: 25\n"
          ]
        }
      ]
    },
    {
      "cell_type": "code",
      "source": [
        "#Assignment 10: Map Function\n",
        "nums = [1, 2, 3, 4, 5]\n",
        "squared_nums = list(map(lambda x: x**2, nums))\n",
        "print(\"Squared numbers:\", squared_nums)"
      ],
      "metadata": {
        "colab": {
          "base_uri": "https://localhost:8080/"
        },
        "id": "OZpVSEAedAOQ",
        "outputId": "99d4cb89-af08-4d4c-c252-aa8662698521"
      },
      "id": "OZpVSEAedAOQ",
      "execution_count": 10,
      "outputs": [
        {
          "output_type": "stream",
          "name": "stdout",
          "text": [
            "Squared numbers: [1, 4, 9, 16, 25]\n"
          ]
        }
      ]
    },
    {
      "cell_type": "code",
      "source": [
        "#Assignment 11: Filter Function\n",
        "nums2 = [1, 2, 3, 4, 5, 6, 7, 8]\n",
        "even_nums = list(filter(lambda x: x % 2 == 0, nums2))\n",
        "print(\"Even numbers:\", even_nums)\n"
      ],
      "metadata": {
        "colab": {
          "base_uri": "https://localhost:8080/"
        },
        "id": "LI5ljBmYdAS8",
        "outputId": "607376cd-19e5-478f-a99e-a4a7f9014e9e"
      },
      "id": "LI5ljBmYdAS8",
      "execution_count": 9,
      "outputs": [
        {
          "output_type": "stream",
          "name": "stdout",
          "text": [
            "Even numbers: [2, 4, 6, 8]\n"
          ]
        }
      ]
    },
    {
      "cell_type": "code",
      "source": [
        "#Assignment 12: Function Decorator\n",
        "def log_decorator(func):\n",
        "    def wrapper(*args, **kwargs):\n",
        "        print(\"Executing function...\")\n",
        "        result = func(*args, **kwargs)\n",
        "        print(\"Function executed.\")\n",
        "        return result\n",
        "    return wrapper\n",
        "\n",
        "@log_decorator\n",
        "def sum_list(lst):\n",
        "    \"\"\"Return the sum of a list of integers.\"\"\"\n",
        "    return sum(lst)\n",
        "\n",
        "print(\"Sum of list:\", sum_list([1, 2, 3, 4]))"
      ],
      "metadata": {
        "colab": {
          "base_uri": "https://localhost:8080/"
        },
        "id": "atU22tv9dAYX",
        "outputId": "d4e3ffb3-9d9d-406e-d672-6e7578964959"
      },
      "id": "atU22tv9dAYX",
      "execution_count": 8,
      "outputs": [
        {
          "output_type": "stream",
          "name": "stdout",
          "text": [
            "Executing function...\n",
            "Function executed.\n",
            "Sum of list: 10\n"
          ]
        }
      ]
    },
    {
      "cell_type": "code",
      "source": [
        "#Assignment 13: Function with args and *kwargs\n",
        "def print_args_kwargs(*args, **kwargs):\n",
        "    \"\"\"Print variable-length args and kwargs.\"\"\"\n",
        "    print(\"Args:\", args)\n",
        "    print(\"Kwargs:\", kwargs)\n",
        "\n",
        "print_args_kwargs(1, 2, 3, name=\"Alice\", age=25)"
      ],
      "metadata": {
        "colab": {
          "base_uri": "https://localhost:8080/"
        },
        "id": "Vp2SYQzSdAeb",
        "outputId": "3c8269d5-9100-42e4-d5fd-37e7f761f595"
      },
      "id": "Vp2SYQzSdAeb",
      "execution_count": 7,
      "outputs": [
        {
          "output_type": "stream",
          "name": "stdout",
          "text": [
            "Args: (1, 2, 3)\n",
            "Kwargs: {'name': 'Alice', 'age': 25}\n"
          ]
        }
      ]
    },
    {
      "cell_type": "code",
      "source": [
        "#Assignment 14: Higher-Order Function\n",
        "def factorial(n):\n",
        "    \"\"\"Recursive factorial function.\"\"\"\n",
        "    if n == 0 or n == 1:\n",
        "        return 1\n",
        "    else:\n",
        "        return n * factorial(n - 1)\n",
        "\n",
        "def apply_function(func, numbers):\n",
        "    \"\"\"Apply a function to each element in a list.\"\"\"\n",
        "    return [func(n) for n in numbers]\n",
        "\n",
        "print(\"Applying factorial function:\", apply_function(factorial, [3, 4, 5]))"
      ],
      "metadata": {
        "colab": {
          "base_uri": "https://localhost:8080/"
        },
        "id": "nE-GJ0CNdAkI",
        "outputId": "178b2d29-bbd5-4eab-9f0f-cf368e4dd7bb"
      },
      "id": "nE-GJ0CNdAkI",
      "execution_count": 6,
      "outputs": [
        {
          "output_type": "stream",
          "name": "stdout",
          "text": [
            "Applying factorial function: [6, 24, 120]\n"
          ]
        }
      ]
    },
    {
      "cell_type": "code",
      "source": [
        "#Assignment 15: Function Documentation\n",
        "def greet(name):\n",
        "    \"\"\"\n",
        "    Greet a person by name.\n",
        "\n",
        "    Parameters:\n",
        "    name (str): The name of the person to greet.\n",
        "\n",
        "    Returns:\n",
        "    str: A greeting message.\n",
        "    \"\"\"\n",
        "    return f\"Hello, {name}!\"\n",
        "\n",
        "print(greet(\"Alice\"))\n",
        "print(\"Docstring for greet():\\n\", greet.__doc__)"
      ],
      "metadata": {
        "colab": {
          "base_uri": "https://localhost:8080/"
        },
        "id": "ykiEgOsXdApV",
        "outputId": "67d1216c-b255-4fc1-cc94-bd3ae64ef4b4"
      },
      "id": "ykiEgOsXdApV",
      "execution_count": 4,
      "outputs": [
        {
          "output_type": "stream",
          "name": "stdout",
          "text": [
            "Hello, Alice!\n",
            "Docstring for greet():\n",
            " \n",
            "    Greet a person by name.\n",
            "    \n",
            "    Parameters:\n",
            "    name (str): The name of the person to greet.\n",
            "    \n",
            "    Returns:\n",
            "    str: A greeting message.\n",
            "    \n"
          ]
        }
      ]
    },
    {
      "cell_type": "code",
      "source": [],
      "metadata": {
        "id": "lqUoTobZdAu0"
      },
      "id": "lqUoTobZdAu0",
      "execution_count": null,
      "outputs": []
    },
    {
      "cell_type": "code",
      "source": [],
      "metadata": {
        "id": "hYh_EkcAdAzf"
      },
      "id": "hYh_EkcAdAzf",
      "execution_count": null,
      "outputs": []
    }
  ],
  "metadata": {
    "kernelspec": {
      "display_name": "Python 3",
      "language": "python",
      "name": "python3"
    },
    "language_info": {
      "codemirror_mode": {
        "name": "ipython",
        "version": 3
      },
      "file_extension": ".py",
      "mimetype": "text/x-python",
      "name": "python",
      "nbconvert_exporter": "python",
      "pygments_lexer": "ipython3",
      "version": "3.9.7"
    },
    "colab": {
      "provenance": []
    }
  },
  "nbformat": 4,
  "nbformat_minor": 5
}