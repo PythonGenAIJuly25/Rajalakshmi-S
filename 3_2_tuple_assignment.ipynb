{
  "cells": [
    {
      "cell_type": "markdown",
      "id": "6cade624",
      "metadata": {
        "id": "6cade624"
      },
      "source": [
        "# Module 3: Data Structures Assignments\n",
        "## Lesson 3.2: Tuples\n",
        "### Assignment 1: Creating and Accessing Tuples\n",
        "\n",
        "Create a tuple with the first 10 positive integers. Print the tuple.\n",
        "\n",
        "### Assignment 2: Accessing Tuple Elements\n",
        "\n",
        "Print the first, middle, and last elements of the tuple created in Assignment 1.\n",
        "\n",
        "### Assignment 3: Tuple Slicing\n",
        "\n",
        "Print the first three elements, the last three elements, and the elements from index 2 to 5 of the tuple created in Assignment 1.\n",
        "\n",
        "### Assignment 4: Nested Tuples\n",
        "\n",
        "Create a nested tuple representing a 3x3 matrix and print the matrix. Access and print the element at the second row and third column.\n",
        "\n",
        "### Assignment 5: Tuple Concatenation\n",
        "\n",
        "Concatenate two tuples: (1, 2, 3) and (4, 5, 6). Print the resulting tuple.\n",
        "\n",
        "### Assignment 6: Tuple Methods\n",
        "\n",
        "Create a tuple with duplicate elements and count the occurrences of an element. Find the index of the first occurrence of an element in the tuple.\n",
        "\n",
        "### Assignment 7: Unpacking Tuples\n",
        "\n",
        "Create a tuple with 5 elements and unpack it into 5 variables. Print the variables.\n",
        "\n",
        "### Assignment 8: Tuple Conversion\n",
        "\n",
        "Convert a list of the first 5 positive integers to a tuple. Print the tuple.\n",
        "\n",
        "### Assignment 9: Tuple of Tuples\n",
        "\n",
        "Create a tuple containing 3 tuples, each with 3 elements. Print the tuple of tuples.\n",
        "\n",
        "### Assignment 10: Tuple and List\n",
        "\n",
        "Create a tuple with the first 5 positive integers. Convert it to a list, append the number 6, and convert it back to a tuple. Print the resulting tuple.\n",
        "\n",
        "### Assignment 11: Tuple and String\n",
        "\n",
        "Create a tuple with the characters of a string. Join the tuple elements into a single string. Print the string.\n",
        "\n",
        "### Assignment 12: Tuple and Dictionary\n",
        "\n",
        "Create a dictionary with tuple keys and integer values. Print the dictionary.\n",
        "\n",
        "### Assignment 13: Nested Tuple Iteration\n",
        "\n",
        "Create a nested tuple and iterate over the elements, printing each element.\n",
        "\n",
        "### Assignment 14: Tuple and Set\n",
        "\n",
        "Create a tuple with duplicate elements. Convert it to a set to remove duplicates and print the resulting set.\n",
        "\n",
        "### Assignment 15: Tuple Functions\n",
        "\n",
        "Write functions that take a tuple and return the minimum, maximum, and sum of the elements. Print the results for a sample tuple."
      ]
    },
    {
      "cell_type": "code",
      "execution_count": 16,
      "metadata": {
        "colab": {
          "base_uri": "https://localhost:8080/"
        },
        "id": "Q6SMa4QeFWEK",
        "outputId": "e1d97128-ca04-4fb5-bdc1-3e660601c5e3"
      },
      "outputs": [
        {
          "output_type": "stream",
          "name": "stdout",
          "text": [
            "Tuple: (1, 2, 3, 4, 5, 6, 7, 8, 9, 10)\n"
          ]
        }
      ],
      "source": [
        "#Assignment 1: Creating and Accessing Tuples\n",
        "tuple1 = (1, 2, 3, 4, 5, 6, 7, 8, 9, 10)\n",
        "print(\"Tuple:\", tuple1)"
      ],
      "id": "Q6SMa4QeFWEK"
    },
    {
      "cell_type": "code",
      "source": [
        "#Assignment 2: Accessing Tuple Elements\n",
        "first = tuple1[0]\n",
        "middle = tuple1[len(tuple1)//2]\n",
        "last = tuple1[-1]\n",
        "print(\"First:\", first, \"Middle:\", middle, \"Last:\", last)"
      ],
      "metadata": {
        "colab": {
          "base_uri": "https://localhost:8080/"
        },
        "id": "7tXH3heYHTZc",
        "outputId": "69234214-a06c-4019-9d38-bd0d2448f977"
      },
      "id": "7tXH3heYHTZc",
      "execution_count": 15,
      "outputs": [
        {
          "output_type": "stream",
          "name": "stdout",
          "text": [
            "First: 1 Middle: 6 Last: 10\n"
          ]
        }
      ]
    },
    {
      "cell_type": "code",
      "source": [
        "#Assignment 3: Tuple Slicing\n",
        "print(\"First 3 elements:\", tuple1[:3])\n",
        "print(\"Last 3 elements:\", tuple1[-3:])\n",
        "print(\"Elements from index 2 to 5:\", tuple1[2:6])\n"
      ],
      "metadata": {
        "colab": {
          "base_uri": "https://localhost:8080/"
        },
        "id": "S0kVVTALHTjO",
        "outputId": "98499d37-e86c-49c0-a822-5cd2e50aeea3"
      },
      "id": "S0kVVTALHTjO",
      "execution_count": 14,
      "outputs": [
        {
          "output_type": "stream",
          "name": "stdout",
          "text": [
            "First 3 elements: (1, 2, 3)\n",
            "Last 3 elements: (8, 9, 10)\n",
            "Elements from index 2 to 5: (3, 4, 5, 6)\n"
          ]
        }
      ]
    },
    {
      "cell_type": "code",
      "source": [
        "#Assignment 4: Nested Tuples\n",
        "matrix = ((1, 2, 3), (4, 5, 6), (7, 8, 9))\n",
        "print(\"Matrix:\", matrix)\n",
        "print(\"Element at second row, third column:\", matrix[1][2])\n"
      ],
      "metadata": {
        "colab": {
          "base_uri": "https://localhost:8080/"
        },
        "id": "3usWdiN9HTlx",
        "outputId": "ec6f8d03-b406-4088-8af1-068f51e2b4de"
      },
      "id": "3usWdiN9HTlx",
      "execution_count": 13,
      "outputs": [
        {
          "output_type": "stream",
          "name": "stdout",
          "text": [
            "Matrix: ((1, 2, 3), (4, 5, 6), (7, 8, 9))\n",
            "Element at second row, third column: 6\n"
          ]
        }
      ]
    },
    {
      "cell_type": "code",
      "source": [
        "#Assignment 5: Tuple Concatenation\n",
        "tuple_a = (1, 2, 3)\n",
        "tuple_b = (4, 5, 6)\n",
        "concatenated = tuple_a + tuple_b\n",
        "print(\"Concatenated Tuple:\", concatenated)"
      ],
      "metadata": {
        "colab": {
          "base_uri": "https://localhost:8080/"
        },
        "id": "xpeZNlaOHToO",
        "outputId": "f2fcbaaa-cf5f-445a-c4e6-73de26ccaadc"
      },
      "id": "xpeZNlaOHToO",
      "execution_count": 12,
      "outputs": [
        {
          "output_type": "stream",
          "name": "stdout",
          "text": [
            "Concatenated Tuple: (1, 2, 3, 4, 5, 6)\n"
          ]
        }
      ]
    },
    {
      "cell_type": "code",
      "source": [
        "#Assignment 6: Tuple Methods\n",
        "dup_tuple = (1, 2, 2, 3, 3, 3, 4)\n",
        "print(\"Count of 3:\", dup_tuple.count(3))\n",
        "print(\"Index of first 3:\", dup_tuple.index(3))\n"
      ],
      "metadata": {
        "colab": {
          "base_uri": "https://localhost:8080/"
        },
        "id": "9mvYrBmzHTqi",
        "outputId": "3a3de4c2-6f5a-4d46-a159-0e41c63319de"
      },
      "id": "9mvYrBmzHTqi",
      "execution_count": 11,
      "outputs": [
        {
          "output_type": "stream",
          "name": "stdout",
          "text": [
            "Count of 3: 3\n",
            "Index of first 3: 3\n"
          ]
        }
      ]
    },
    {
      "cell_type": "code",
      "source": [
        "#Assignment 7: Unpacking Tuples\n",
        "tuple5 = (10, 20, 30, 40, 50)\n",
        "a, b, c, d, e = tuple5\n",
        "print(\"Unpacked variables:\", a, b, c, d, e)"
      ],
      "metadata": {
        "colab": {
          "base_uri": "https://localhost:8080/"
        },
        "id": "IUmZlkr5HTsz",
        "outputId": "50704d06-811d-4a0c-cf39-6c56ace64391"
      },
      "id": "IUmZlkr5HTsz",
      "execution_count": 10,
      "outputs": [
        {
          "output_type": "stream",
          "name": "stdout",
          "text": [
            "Unpacked variables: 10 20 30 40 50\n"
          ]
        }
      ]
    },
    {
      "cell_type": "code",
      "source": [
        "#Assignment 8: Tuple Conversion\n",
        "list_nums = [1, 2, 3, 4, 5]\n",
        "tuple_from_list = tuple(list_nums)\n",
        "print(\"Tuple from list:\", tuple_from_list)"
      ],
      "metadata": {
        "colab": {
          "base_uri": "https://localhost:8080/"
        },
        "id": "51Y2fQ0QHTvp",
        "outputId": "7c1551d9-aa7b-4beb-9c4b-a42fafbf8aab"
      },
      "id": "51Y2fQ0QHTvp",
      "execution_count": 9,
      "outputs": [
        {
          "output_type": "stream",
          "name": "stdout",
          "text": [
            "Tuple from list: (1, 2, 3, 4, 5)\n"
          ]
        }
      ]
    },
    {
      "cell_type": "code",
      "source": [
        "#Assignment 9: Tuple of Tuples\n",
        "tuple_of_tuples = ((1, 2, 3), (4, 5, 6), (7, 8, 9))\n",
        "print(\"Tuple of Tuples:\", tuple_of_tuples)"
      ],
      "metadata": {
        "colab": {
          "base_uri": "https://localhost:8080/"
        },
        "id": "BQpzunOFHTyR",
        "outputId": "71194480-9f5f-4697-f0df-7490e671e906"
      },
      "id": "BQpzunOFHTyR",
      "execution_count": 8,
      "outputs": [
        {
          "output_type": "stream",
          "name": "stdout",
          "text": [
            "Tuple of Tuples: ((1, 2, 3), (4, 5, 6), (7, 8, 9))\n"
          ]
        }
      ]
    },
    {
      "cell_type": "code",
      "source": [
        "#Assignment 10: Tuple and List\n",
        "tuple5 = (1, 2, 3, 4, 5)\n",
        "temp_list = list(tuple5)\n",
        "temp_list.append(6)\n",
        "tuple_back = tuple(temp_list)\n",
        "print(\"After appending 6:\", tuple_back)"
      ],
      "metadata": {
        "colab": {
          "base_uri": "https://localhost:8080/"
        },
        "id": "hDb5iiwXHT0m",
        "outputId": "bfa41c53-ec13-4255-d909-ef6e8eb18d90"
      },
      "id": "hDb5iiwXHT0m",
      "execution_count": 7,
      "outputs": [
        {
          "output_type": "stream",
          "name": "stdout",
          "text": [
            "After appending 6: (1, 2, 3, 4, 5, 6)\n"
          ]
        }
      ]
    },
    {
      "cell_type": "code",
      "source": [
        "#Assignment 11: Tuple and String\n",
        "my_string = \"hello\"\n",
        "tuple_chars = tuple(my_string)\n",
        "joined_string = \"\".join(tuple_chars)\n",
        "print(\"Joined string from tuple:\", joined_string)"
      ],
      "metadata": {
        "colab": {
          "base_uri": "https://localhost:8080/"
        },
        "id": "873psltFHT3Q",
        "outputId": "d71f7a8b-0501-4c83-fe03-9a2472283c53"
      },
      "id": "873psltFHT3Q",
      "execution_count": 6,
      "outputs": [
        {
          "output_type": "stream",
          "name": "stdout",
          "text": [
            "Joined string from tuple: hello\n"
          ]
        }
      ]
    },
    {
      "cell_type": "code",
      "source": [
        "#Assignment 12: Tuple and Dictionary\n",
        "tuple_dict = {(\"a\", 1): 10, (\"b\", 2): 20, (\"c\", 3): 30}\n",
        "print(\"Dictionary with tuple keys:\", tuple_dict)"
      ],
      "metadata": {
        "colab": {
          "base_uri": "https://localhost:8080/"
        },
        "id": "4lRU1GwwHT5h",
        "outputId": "4058e3ac-27f7-4455-c8c0-60bb8b8c78cd"
      },
      "id": "4lRU1GwwHT5h",
      "execution_count": 5,
      "outputs": [
        {
          "output_type": "stream",
          "name": "stdout",
          "text": [
            "Dictionary with tuple keys: {('a', 1): 10, ('b', 2): 20, ('c', 3): 30}\n"
          ]
        }
      ]
    },
    {
      "cell_type": "code",
      "source": [
        "#Assignment 13: Nested Tuple Iteration\n",
        "nested_tuple = ((1, 2), (3, 4), (5, 6))\n",
        "print(\"Nested Tuple Iteration:\")\n",
        "for sub_tuple in nested_tuple:\n",
        "    for item in sub_tuple:\n",
        "        print(item, end=\" \")\n",
        "print()"
      ],
      "metadata": {
        "colab": {
          "base_uri": "https://localhost:8080/"
        },
        "id": "BG5Uvt3SHT83",
        "outputId": "ef36f3d4-a11a-4a6e-b322-c7ea2e7d34af"
      },
      "id": "BG5Uvt3SHT83",
      "execution_count": 4,
      "outputs": [
        {
          "output_type": "stream",
          "name": "stdout",
          "text": [
            "Nested Tuple Iteration:\n",
            "1 2 3 4 5 6 \n"
          ]
        }
      ]
    },
    {
      "cell_type": "code",
      "source": [
        "#Assignment 14: Tuple and Set\n",
        "dup_tuple2 = (1, 2, 2, 3, 3, 4)\n",
        "unique_set = set(dup_tuple2)\n",
        "print(\"Set without duplicates:\", unique_set)"
      ],
      "metadata": {
        "colab": {
          "base_uri": "https://localhost:8080/"
        },
        "id": "qOwa8MOWKNtD",
        "outputId": "49046e57-d48b-408f-e084-a4c08b34e6da"
      },
      "id": "qOwa8MOWKNtD",
      "execution_count": 3,
      "outputs": [
        {
          "output_type": "stream",
          "name": "stdout",
          "text": [
            "Set without duplicates: {1, 2, 3, 4}\n"
          ]
        }
      ]
    },
    {
      "cell_type": "code",
      "source": [
        "#Assignment 15: Tuple Functions\n",
        "def tuple_min_max_sum(t):\n",
        "    return min(t), max(t), sum(t)\n",
        "\n",
        "sample_tuple = (5, 10, 15, 20)\n",
        "min_val, max_val, sum_val = tuple_min_max_sum(sample_tuple)\n",
        "print(f\"For {sample_tuple} -> Min: {min_val}, Max: {max_val}, Sum: {sum_val}\")"
      ],
      "metadata": {
        "colab": {
          "base_uri": "https://localhost:8080/"
        },
        "id": "V_2lRmsuKRkJ",
        "outputId": "aaa1ac49-e820-49a6-c4e7-97c1441b76f2"
      },
      "id": "V_2lRmsuKRkJ",
      "execution_count": 2,
      "outputs": [
        {
          "output_type": "stream",
          "name": "stdout",
          "text": [
            "For (5, 10, 15, 20) -> Min: 5, Max: 20, Sum: 50\n"
          ]
        }
      ]
    }
  ],
  "metadata": {
    "kernelspec": {
      "display_name": "Python 3",
      "language": "python",
      "name": "python3"
    },
    "language_info": {
      "codemirror_mode": {
        "name": "ipython",
        "version": 3
      },
      "file_extension": ".py",
      "mimetype": "text/x-python",
      "name": "python",
      "nbconvert_exporter": "python",
      "pygments_lexer": "ipython3",
      "version": "3.9.7"
    },
    "colab": {
      "provenance": []
    }
  },
  "nbformat": 4,
  "nbformat_minor": 5
}