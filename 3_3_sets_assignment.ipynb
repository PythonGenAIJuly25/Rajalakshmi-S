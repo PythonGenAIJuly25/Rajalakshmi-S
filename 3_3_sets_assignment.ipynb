{
  "cells": [
    {
      "cell_type": "markdown",
      "metadata": {
        "id": "VZ7lgxS3M7ts"
      },
      "source": [
        "# Module 3: Data Structures Assignments\n",
        "## Lesson 3.3: Sets\n",
        "### Assignment 1: Creating and Accessing Sets\n",
        "\n",
        "Create a set with the first 10 positive integers. Print the set.\n",
        "\n",
        "### Assignment 2: Adding and Removing Elements\n",
        "\n",
        "Add the number 11 to the set created in Assignment 1. Then remove the number 1 from the set. Print the modified set.\n",
        "\n",
        "### Assignment 3: Set Operations\n",
        "\n",
        "Create two sets: one with the first 5 positive integers and another with the first 5 even integers. Perform and print the results of union, intersection, difference, and symmetric difference operations on these sets.\n",
        "\n",
        "### Assignment 4: Set Comprehensions\n",
        "\n",
        "Create a new set containing the squares of the first 10 positive integers using a set comprehension. Print the new set.\n",
        "\n",
        "### Assignment 5: Filtering Sets\n",
        "\n",
        "Create a new set containing only the even numbers from the set created in Assignment 1 using a set comprehension. Print the new set.\n",
        "\n",
        "### Assignment 6: Set Methods\n",
        "\n",
        "Create a set with duplicate elements and remove the duplicates using set methods. Print the modified set.\n",
        "\n",
        "### Assignment 7: Subsets and Supersets\n",
        "\n",
        "Create two sets: one with the first 5 positive integers and another with the first 3 positive integers. Check if the second set is a subset of the first set and if the first set is a superset of the second set. Print the results.\n",
        "\n",
        "### Assignment 8: Frozenset\n",
        "\n",
        "Create a frozenset with the first 5 positive integers. Print the frozenset.\n",
        "\n",
        "### Assignment 9: Set and List Conversion\n",
        "\n",
        "Create a set with the first 5 positive integers. Convert it to a list, append the number 6, and convert it back to a set. Print the resulting set.\n",
        "\n",
        "### Assignment 10: Set and Dictionary\n",
        "\n",
        "Create a dictionary with set keys and integer values. Print the dictionary.\n",
        "\n",
        "### Assignment 11: Iterating Over Sets\n",
        "\n",
        "Create a set and iterate over the elements, printing each element.\n",
        "\n",
        "### Assignment 12: Removing Elements from Sets\n",
        "\n",
        "Create a set and remove elements from it until it is empty. Print the set after each removal.\n",
        "\n",
        "### Assignment 13: Set Symmetric Difference Update\n",
        "\n",
        "Create two sets and update the first set with the symmetric difference of the two sets. Print the modified first set.\n",
        "\n",
        "### Assignment 14: Set Membership Testing\n",
        "\n",
        "Create a set and test if certain elements are present in the set. Print the results.\n",
        "\n",
        "### Assignment 15: Set of Tuples\n",
        "\n",
        "Create a set containing tuples, where each tuple contains two elements. Print the set."
      ],
      "id": "VZ7lgxS3M7ts"
    },
    {
      "cell_type": "code",
      "execution_count": 2,
      "metadata": {
        "colab": {
          "base_uri": "https://localhost:8080/"
        },
        "id": "K_bbHf_8M7ty",
        "outputId": "ad956a1c-51dc-432e-e627-b935ea54ac38"
      },
      "outputs": [
        {
          "output_type": "stream",
          "name": "stdout",
          "text": [
            "Set: {1, 2, 3, 4, 5, 6, 7, 8, 9, 10}\n"
          ]
        }
      ],
      "source": [
        "#Assignment 1: Creating and Accessing Sets\n",
        "set1 = {1, 2, 3, 4, 5, 6, 7, 8, 9, 10}\n",
        "print(\"Set:\", set1)"
      ],
      "id": "K_bbHf_8M7ty"
    },
    {
      "cell_type": "code",
      "source": [
        "#Assignment 2: Adding and Removing Elements\n",
        "set1.add(11)\n",
        "set1.remove(1)\n",
        "print(\"Modified Set:\", set1)\n"
      ],
      "metadata": {
        "colab": {
          "base_uri": "https://localhost:8080/"
        },
        "id": "1Dc9Pps8M9ay",
        "outputId": "509bb865-5929-4010-e65b-35e3123ab378"
      },
      "id": "1Dc9Pps8M9ay",
      "execution_count": 3,
      "outputs": [
        {
          "output_type": "stream",
          "name": "stdout",
          "text": [
            "Modified Set: {2, 3, 4, 5, 6, 7, 8, 9, 10, 11}\n"
          ]
        }
      ]
    },
    {
      "cell_type": "code",
      "source": [
        "#Assignment 3: Set Operations\n",
        "set_a = {1, 2, 3, 4, 5}\n",
        "set_b = {2, 4, 6, 8, 10}\n",
        "print(\"Union:\", set_a | set_b)\n",
        "print(\"Intersection:\", set_a & set_b)\n",
        "print(\"Difference (A - B):\", set_a - set_b)\n",
        "print(\"Symmetric Difference:\", set_a ^ set_b)\n"
      ],
      "metadata": {
        "colab": {
          "base_uri": "https://localhost:8080/"
        },
        "id": "6Kk-qLIUM9dU",
        "outputId": "76089eda-245d-44b2-9233-83020972b529"
      },
      "id": "6Kk-qLIUM9dU",
      "execution_count": 4,
      "outputs": [
        {
          "output_type": "stream",
          "name": "stdout",
          "text": [
            "Union: {1, 2, 3, 4, 5, 6, 8, 10}\n",
            "Intersection: {2, 4}\n",
            "Difference (A - B): {1, 3, 5}\n",
            "Symmetric Difference: {1, 3, 5, 6, 8, 10}\n"
          ]
        }
      ]
    },
    {
      "cell_type": "code",
      "source": [
        "#Assignment 4: Set Comprehensions\n",
        "squares_set = {x**2 for x in range(1, 11)}\n",
        "print(\"Squares of first 10 positive integers:\", squares_set)"
      ],
      "metadata": {
        "colab": {
          "base_uri": "https://localhost:8080/"
        },
        "id": "UlO0bkrhM9gB",
        "outputId": "5dd73d20-f503-4736-d89e-63e40ac16dd3"
      },
      "id": "UlO0bkrhM9gB",
      "execution_count": 5,
      "outputs": [
        {
          "output_type": "stream",
          "name": "stdout",
          "text": [
            "Squares of first 10 positive integers: {64, 1, 4, 36, 100, 9, 16, 49, 81, 25}\n"
          ]
        }
      ]
    },
    {
      "cell_type": "code",
      "source": [
        "#Assignment 5: Filtering Sets\n",
        "even_numbers_set = {x for x in set1 if x % 2 == 0}\n",
        "print(\"Even numbers from set1:\", even_numbers_set)"
      ],
      "metadata": {
        "colab": {
          "base_uri": "https://localhost:8080/"
        },
        "id": "yNqAvtsxM9is",
        "outputId": "f919a943-3ea8-4496-90db-a05feb49b213"
      },
      "id": "yNqAvtsxM9is",
      "execution_count": 6,
      "outputs": [
        {
          "output_type": "stream",
          "name": "stdout",
          "text": [
            "Even numbers from set1: {2, 4, 6, 8, 10}\n"
          ]
        }
      ]
    },
    {
      "cell_type": "code",
      "source": [
        "#Assignment 6: Set Methods\n",
        "dup_list = [1, 2, 2, 3, 3, 3, 4]\n",
        "dup_set = set(dup_list)  # removes duplicates automatically\n",
        "print(\"Set without duplicates:\", dup_set)"
      ],
      "metadata": {
        "colab": {
          "base_uri": "https://localhost:8080/"
        },
        "id": "MRrfz1m-M9lh",
        "outputId": "a5d46eed-b20b-486c-f7c2-32807e851ef0"
      },
      "id": "MRrfz1m-M9lh",
      "execution_count": 7,
      "outputs": [
        {
          "output_type": "stream",
          "name": "stdout",
          "text": [
            "Set without duplicates: {1, 2, 3, 4}\n"
          ]
        }
      ]
    },
    {
      "cell_type": "code",
      "source": [
        "#Assignment 7: Subsets and Supersets\n",
        "set_main = {1, 2, 3, 4, 5}\n",
        "set_sub = {1, 2, 3}\n",
        "print(\"Is subset?\", set_sub.issubset(set_main))\n",
        "print(\"Is superset?\", set_main.issuperset(set_sub))\n"
      ],
      "metadata": {
        "colab": {
          "base_uri": "https://localhost:8080/"
        },
        "id": "wMAoPk8KM9n0",
        "outputId": "f9ded6aa-b0c5-4f8c-a852-38a35e75f720"
      },
      "id": "wMAoPk8KM9n0",
      "execution_count": 8,
      "outputs": [
        {
          "output_type": "stream",
          "name": "stdout",
          "text": [
            "Is subset? True\n",
            "Is superset? True\n"
          ]
        }
      ]
    },
    {
      "cell_type": "code",
      "source": [
        "#Assignment 8: Frozenset\n",
        "frozen = frozenset({1, 2, 3, 4, 5})\n",
        "print(\"Frozenset:\", frozen)"
      ],
      "metadata": {
        "colab": {
          "base_uri": "https://localhost:8080/"
        },
        "id": "FXPAMsIvM9qd",
        "outputId": "4e0ac467-e23e-49d5-9402-6b372e837e13"
      },
      "id": "FXPAMsIvM9qd",
      "execution_count": 9,
      "outputs": [
        {
          "output_type": "stream",
          "name": "stdout",
          "text": [
            "Frozenset: frozenset({1, 2, 3, 4, 5})\n"
          ]
        }
      ]
    },
    {
      "cell_type": "code",
      "source": [
        "#Assignment 9: Set and List Conversion\n",
        "set5 = {1, 2, 3, 4, 5}\n",
        "temp_list = list(set5)\n",
        "temp_list.append(6)\n",
        "converted_back = set(temp_list)\n",
        "print(\"After appending 6:\", converted_back)"
      ],
      "metadata": {
        "colab": {
          "base_uri": "https://localhost:8080/"
        },
        "id": "c5CSA07FM9tO",
        "outputId": "fdda573b-8350-438e-9b50-378823ff1ca2"
      },
      "id": "c5CSA07FM9tO",
      "execution_count": 10,
      "outputs": [
        {
          "output_type": "stream",
          "name": "stdout",
          "text": [
            "After appending 6: {1, 2, 3, 4, 5, 6}\n"
          ]
        }
      ]
    },
    {
      "cell_type": "code",
      "source": [
        "#Assignment 10: Set and Dictionary\n",
        "dict_with_set_keys = {frozenset({1, 2}): 10, frozenset({3, 4}): 20}\n",
        "print(\"Dictionary with frozenset keys:\", dict_with_set_keys)\n"
      ],
      "metadata": {
        "colab": {
          "base_uri": "https://localhost:8080/"
        },
        "id": "3HAg4_l-M9v9",
        "outputId": "0a8dd297-865c-438a-c5e5-4667f1fd75ba"
      },
      "id": "3HAg4_l-M9v9",
      "execution_count": 11,
      "outputs": [
        {
          "output_type": "stream",
          "name": "stdout",
          "text": [
            "Dictionary with frozenset keys: {frozenset({1, 2}): 10, frozenset({3, 4}): 20}\n"
          ]
        }
      ]
    },
    {
      "cell_type": "code",
      "source": [
        "#Assignment 11: Iterating Over Sets\n",
        "iterate_set = {10, 20, 30, 40}\n",
        "print(\"Iterating over set:\")\n",
        "for element in iterate_set:\n",
        "    print(element)"
      ],
      "metadata": {
        "colab": {
          "base_uri": "https://localhost:8080/"
        },
        "id": "ZdMav6SWM9ye",
        "outputId": "a59e23fd-6373-4a73-842d-c9b97cc113fa"
      },
      "id": "ZdMav6SWM9ye",
      "execution_count": 12,
      "outputs": [
        {
          "output_type": "stream",
          "name": "stdout",
          "text": [
            "Iterating over set:\n",
            "40\n",
            "10\n",
            "20\n",
            "30\n"
          ]
        }
      ]
    },
    {
      "cell_type": "code",
      "source": [
        "#Assignment 12: Removing Elements from Sets\n",
        "remove_set = {1, 2, 3, 4}\n",
        "while remove_set:\n",
        "    remove_set.pop()\n",
        "    print(\"After removal:\", remove_set)"
      ],
      "metadata": {
        "colab": {
          "base_uri": "https://localhost:8080/"
        },
        "id": "pqpUkgl6M904",
        "outputId": "841beda9-4236-45bf-a330-7cf2f3acf715"
      },
      "id": "pqpUkgl6M904",
      "execution_count": 13,
      "outputs": [
        {
          "output_type": "stream",
          "name": "stdout",
          "text": [
            "After removal: {2, 3, 4}\n",
            "After removal: {3, 4}\n",
            "After removal: {4}\n",
            "After removal: set()\n"
          ]
        }
      ]
    },
    {
      "cell_type": "code",
      "source": [
        "#Assignment 13: Set Symmetric Difference Update\n",
        "sym_a = {1, 2, 3}\n",
        "sym_b = {3, 4, 5}\n",
        "sym_a.symmetric_difference_update(sym_b)\n",
        "print(\"Symmetric difference updated set:\", sym_a)\n"
      ],
      "metadata": {
        "colab": {
          "base_uri": "https://localhost:8080/"
        },
        "id": "6WJsx9TdM93s",
        "outputId": "6ba38355-2d35-49d2-ec70-55f53ab2100b"
      },
      "id": "6WJsx9TdM93s",
      "execution_count": 14,
      "outputs": [
        {
          "output_type": "stream",
          "name": "stdout",
          "text": [
            "Symmetric difference updated set: {1, 2, 4, 5}\n"
          ]
        }
      ]
    },
    {
      "cell_type": "code",
      "source": [
        "#Assignment 14: Set Membership Testing\n",
        "membership_set = {1, 2, 3, 4, 5}\n",
        "print(\"Is 3 in set?\", 3 in membership_set)\n",
        "print(\"Is 6 in set?\", 6 in membership_set)"
      ],
      "metadata": {
        "colab": {
          "base_uri": "https://localhost:8080/"
        },
        "id": "ui19yHlYM96D",
        "outputId": "19f69fbd-8481-4327-d190-736d4593707c"
      },
      "id": "ui19yHlYM96D",
      "execution_count": 15,
      "outputs": [
        {
          "output_type": "stream",
          "name": "stdout",
          "text": [
            "Is 3 in set? True\n",
            "Is 6 in set? False\n"
          ]
        }
      ]
    },
    {
      "cell_type": "code",
      "source": [
        "#Assignment 15: Set of Tuples\n",
        "tuple_set = {(1, 'a'), (2, 'b'), (3, 'c')}\n",
        "print(\"Set of tuples:\", tuple_set)"
      ],
      "metadata": {
        "colab": {
          "base_uri": "https://localhost:8080/"
        },
        "id": "uZWSzk7UM98h",
        "outputId": "b25a36e5-67ce-4ced-d46d-c77ba17ae597"
      },
      "id": "uZWSzk7UM98h",
      "execution_count": 16,
      "outputs": [
        {
          "output_type": "stream",
          "name": "stdout",
          "text": [
            "Set of tuples: {(1, 'a'), (2, 'b'), (3, 'c')}\n"
          ]
        }
      ]
    }
  ],
  "metadata": {
    "kernelspec": {
      "display_name": "Python 3",
      "language": "python",
      "name": "python3"
    },
    "language_info": {
      "codemirror_mode": {
        "name": "ipython",
        "version": 3
      },
      "file_extension": ".py",
      "mimetype": "text/x-python",
      "name": "python",
      "nbconvert_exporter": "python",
      "pygments_lexer": "ipython3",
      "version": "3.9.7"
    },
    "colab": {
      "provenance": []
    }
  },
  "nbformat": 4,
  "nbformat_minor": 5
}