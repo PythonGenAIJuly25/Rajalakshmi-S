{
  "cells": [
    {
      "cell_type": "markdown",
      "metadata": {
        "id": "1wu7bfLPCtfa"
      },
      "source": [
        "# Python Basics\n",
        "## Topics Covered:\n",
        "- Syntax and Semantics\n",
        "- Variables and Data Types\n",
        "- Basic Operators (Arithmetic, Comparison, Logical)\n"
      ]
    },
    {
      "cell_type": "markdown",
      "metadata": {
        "id": "1jOFtIaVCtfd"
      },
      "source": [
        "## 1. Syntax and Semantics\n",
        "\n",
        "**Question 1:** Write a Python program to print \"Hello, World!\"."
      ]
    },
    {
      "cell_type": "code",
      "execution_count": 1,
      "metadata": {
        "colab": {
          "base_uri": "https://localhost:8080/"
        },
        "id": "fIL5jmA7Ctfe",
        "outputId": "ce2ff19a-484d-4925-e6ef-16275fdf80be"
      },
      "outputs": [
        {
          "output_type": "stream",
          "name": "stdout",
          "text": [
            "Hello, World!\n"
          ]
        }
      ],
      "source": [
        "print(\"Hello, World!\")"
      ]
    },
    {
      "cell_type": "markdown",
      "metadata": {
        "id": "-jxCcNtQCtff"
      },
      "source": [
        "**Question 2:** Write a Python program that takes a user input and prints it."
      ]
    },
    {
      "cell_type": "code",
      "execution_count": 2,
      "metadata": {
        "colab": {
          "base_uri": "https://localhost:8080/"
        },
        "id": "EukQaDz1Ctfg",
        "outputId": "d5ccfdbb-b0b8-4067-d90c-ab76d2e10455"
      },
      "outputs": [
        {
          "output_type": "stream",
          "name": "stdout",
          "text": [
            "Enter something: aa\n",
            "You entered: aa\n"
          ]
        }
      ],
      "source": [
        "user_input = input(\"Enter something: \")\n",
        "print(\"You entered:\", user_input)"
      ]
    },
    {
      "cell_type": "markdown",
      "metadata": {
        "id": "sdn9PmkoCtfg"
      },
      "source": [
        "**Question 3:** Write a Python program to check if a number is positive, negative, or zero."
      ]
    },
    {
      "cell_type": "code",
      "execution_count": 3,
      "metadata": {
        "colab": {
          "base_uri": "https://localhost:8080/"
        },
        "id": "cguQT-NnCtfg",
        "outputId": "8a9cfc18-2fa7-41ab-ce95-ed63002a1f71"
      },
      "outputs": [
        {
          "output_type": "stream",
          "name": "stdout",
          "text": [
            "Enter a number: 0\n",
            "Zero\n"
          ]
        }
      ],
      "source": [
        "num = float(input(\"Enter a number: \"))\n",
        "if num > 0:\n",
        "    print(\"Positive\")\n",
        "elif num < 0:\n",
        "    print(\"Negative\")\n",
        "else:\n",
        "    print(\"Zero\")"
      ]
    },
    {
      "cell_type": "markdown",
      "metadata": {
        "id": "fCdzALHCCtfg"
      },
      "source": [
        "**Question 4:** Write a Python program to find the largest of three numbers."
      ]
    },
    {
      "cell_type": "code",
      "execution_count": 4,
      "metadata": {
        "colab": {
          "base_uri": "https://localhost:8080/"
        },
        "id": "qnqFMgxdCtfg",
        "outputId": "18d731b9-d103-4776-fa65-12c79b3bd7bb"
      },
      "outputs": [
        {
          "output_type": "stream",
          "name": "stdout",
          "text": [
            "Enter first number: 3\n",
            "Enter second number: 6\n",
            "Enter third number: 1\n",
            "The largest number is: 6.0\n"
          ]
        }
      ],
      "source": [
        "a = float(input(\"Enter first number: \"))\n",
        "b = float(input(\"Enter second number: \"))\n",
        "c = float(input(\"Enter third number: \"))\n",
        "largest = max(a, b, c)\n",
        "print(\"The largest number is:\", largest)"
      ]
    },
    {
      "cell_type": "markdown",
      "metadata": {
        "id": "NQuKHXQHCtfh"
      },
      "source": [
        "**Question 5:** Write a Python program to calculate the factorial of a number."
      ]
    },
    {
      "cell_type": "code",
      "execution_count": 5,
      "metadata": {
        "colab": {
          "base_uri": "https://localhost:8080/"
        },
        "id": "-bVQ4AicCtfh",
        "outputId": "658e7742-4c35-4c87-d0f9-e799f8557a35"
      },
      "outputs": [
        {
          "output_type": "stream",
          "name": "stdout",
          "text": [
            "Enter a number: 4\n",
            "Factorial of 4 is 24\n"
          ]
        }
      ],
      "source": [
        "n = int(input(\"Enter a number: \"))\n",
        "factorial = 1\n",
        "for i in range(1, n + 1):\n",
        "    factorial *= i\n",
        "print(\"Factorial of\", n, \"is\", factorial)"
      ]
    },
    {
      "cell_type": "markdown",
      "metadata": {
        "id": "L8T2ihhnCtfh"
      },
      "source": [
        "## 2. Variables and Data Types\n",
        "\n",
        "**Question 6:** Create variables of different data types: integer, float, string, and boolean. Print their values and types."
      ]
    },
    {
      "cell_type": "code",
      "execution_count": 6,
      "metadata": {
        "colab": {
          "base_uri": "https://localhost:8080/"
        },
        "id": "5JUrGG68Ctfh",
        "outputId": "2757e966-c3c9-446f-fa9f-366bbb1d41c4"
      },
      "outputs": [
        {
          "output_type": "stream",
          "name": "stdout",
          "text": [
            "10 <class 'int'>\n",
            "3.14 <class 'float'>\n",
            "Hello <class 'str'>\n",
            "True <class 'bool'>\n"
          ]
        }
      ],
      "source": [
        "integer_var = 10\n",
        "float_var = 3.14\n",
        "string_var = \"Hello\"\n",
        "bool_var = True\n",
        "print(integer_var, type(integer_var))\n",
        "print(float_var, type(float_var))\n",
        "print(string_var, type(string_var))\n",
        "print(bool_var, type(bool_var))\n"
      ]
    },
    {
      "cell_type": "markdown",
      "metadata": {
        "id": "1Q39MkVvCtfh"
      },
      "source": [
        "**Question 7:** Write a Python program to swap the values of two variables."
      ]
    },
    {
      "cell_type": "code",
      "execution_count": 7,
      "metadata": {
        "colab": {
          "base_uri": "https://localhost:8080/"
        },
        "id": "G4yKf9jyCtfi",
        "outputId": "dc0d4b0d-edd5-4d17-b2e1-17208e5b6fa8"
      },
      "outputs": [
        {
          "output_type": "stream",
          "name": "stdout",
          "text": [
            "Before swap: 5 10\n",
            "After swap: 10 5\n"
          ]
        }
      ],
      "source": [
        "x = 5\n",
        "y = 10\n",
        "print(\"Before swap:\", x, y)\n",
        "x, y = y, x\n",
        "print(\"After swap:\", x, y)"
      ]
    },
    {
      "cell_type": "markdown",
      "metadata": {
        "id": "y0BP9hI2Ctfi"
      },
      "source": [
        "**Question 8:** Write a Python program to convert Celsius to Fahrenheit."
      ]
    },
    {
      "cell_type": "code",
      "execution_count": 8,
      "metadata": {
        "colab": {
          "base_uri": "https://localhost:8080/"
        },
        "id": "Lozcp0IbCtfi",
        "outputId": "cbea9c13-bfd8-469f-826b-7a63258b5988"
      },
      "outputs": [
        {
          "output_type": "stream",
          "name": "stdout",
          "text": [
            "Enter temperature in Celsius: 3\n",
            "Temperature in Fahrenheit: 37.4\n"
          ]
        }
      ],
      "source": [
        "celsius = float(input(\"Enter temperature in Celsius: \"))\n",
        "fahrenheit = (celsius * 9/5) + 32\n",
        "print(\"Temperature in Fahrenheit:\", fahrenheit)"
      ]
    },
    {
      "cell_type": "markdown",
      "metadata": {
        "id": "7y-8Y9nhCtfi"
      },
      "source": [
        "**Question 9:** Write a Python program to concatenate two strings."
      ]
    },
    {
      "cell_type": "code",
      "execution_count": 9,
      "metadata": {
        "colab": {
          "base_uri": "https://localhost:8080/"
        },
        "id": "KHdyDbCmCtfi",
        "outputId": "dfb14715-c14d-443a-99f9-33d57009667b"
      },
      "outputs": [
        {
          "output_type": "stream",
          "name": "stdout",
          "text": [
            "Concatenated string: Hello World\n"
          ]
        }
      ],
      "source": [
        "str1 = \"Hello\"\n",
        "str2 = \"World\"\n",
        "result = str1 + \" \" + str2\n",
        "print(\"Concatenated string:\", result)"
      ]
    },
    {
      "cell_type": "markdown",
      "metadata": {
        "id": "VUoBy-K_Ctfi"
      },
      "source": [
        "**Question 10:** Write a Python program to check if a variable is of a specific data type."
      ]
    },
    {
      "cell_type": "code",
      "execution_count": 10,
      "metadata": {
        "colab": {
          "base_uri": "https://localhost:8080/"
        },
        "id": "oS9pQVH0Ctfi",
        "outputId": "adee041f-c2b5-4e7b-e5d5-0b7e37cca526"
      },
      "outputs": [
        {
          "output_type": "stream",
          "name": "stdout",
          "text": [
            "True\n"
          ]
        }
      ],
      "source": [
        "var = 42\n",
        "print(isinstance(var, int))"
      ]
    },
    {
      "cell_type": "markdown",
      "metadata": {
        "id": "ZQ2l7YNNCtfi"
      },
      "source": [
        "## 3. Basic Operators (Arithmetic, Comparison, Logical)\n",
        "\n",
        "**Question 11:** Write a Python program to perform arithmetic operations: addition, subtraction, multiplication, and division."
      ]
    },
    {
      "cell_type": "code",
      "execution_count": 11,
      "metadata": {
        "colab": {
          "base_uri": "https://localhost:8080/"
        },
        "id": "aAuB2ihyCtfj",
        "outputId": "27ab1933-3845-49ac-f3fe-7182ab2fb2d8"
      },
      "outputs": [
        {
          "output_type": "stream",
          "name": "stdout",
          "text": [
            "Addition: 19\n",
            "Subtraction: 11\n",
            "Multiplication: 60\n",
            "Division: 3.75\n"
          ]
        }
      ],
      "source": [
        "a = 15\n",
        "b = 4\n",
        "print(\"Addition:\", a + b)\n",
        "print(\"Subtraction:\", a - b)\n",
        "print(\"Multiplication:\", a * b)\n",
        "print(\"Division:\", a / b)"
      ]
    },
    {
      "cell_type": "markdown",
      "metadata": {
        "id": "2WkBoEikCtfj"
      },
      "source": [
        "**Question 12:** Write a Python program to demonstrate comparison operators: equal to, not equal to, greater than, less than."
      ]
    },
    {
      "cell_type": "code",
      "execution_count": 12,
      "metadata": {
        "colab": {
          "base_uri": "https://localhost:8080/"
        },
        "id": "9wTuStDZCtfj",
        "outputId": "4c78ab8c-db3e-401e-df6c-b454fb1eca0a"
      },
      "outputs": [
        {
          "output_type": "stream",
          "name": "stdout",
          "text": [
            "Equal: False\n",
            "Not equal: True\n",
            "Greater than: False\n",
            "Less than: True\n"
          ]
        }
      ],
      "source": [
        "x = 10\n",
        "y = 20\n",
        "print(\"Equal:\", x == y)\n",
        "print(\"Not equal:\", x != y)\n",
        "print(\"Greater than:\", x > y)\n",
        "print(\"Less than:\", x < y)\n"
      ]
    },
    {
      "cell_type": "markdown",
      "metadata": {
        "id": "eUSudYdICtfj"
      },
      "source": [
        "**Question 13:** Write a Python program to demonstrate logical operators: and, or, not."
      ]
    },
    {
      "cell_type": "code",
      "execution_count": 13,
      "metadata": {
        "colab": {
          "base_uri": "https://localhost:8080/"
        },
        "id": "IjhDEON_Ctfj",
        "outputId": "bd6bf80e-7ed4-4b35-89a5-398032d59cf7"
      },
      "outputs": [
        {
          "output_type": "stream",
          "name": "stdout",
          "text": [
            "AND: False\n",
            "OR: True\n",
            "NOT p: False\n"
          ]
        }
      ],
      "source": [
        "p = True\n",
        "q = False\n",
        "print(\"AND:\", p and q)\n",
        "print(\"OR:\", p or q)\n",
        "print(\"NOT p:\", not p)"
      ]
    },
    {
      "cell_type": "markdown",
      "metadata": {
        "id": "DVcSM1RKCtfj"
      },
      "source": [
        "**Question 14:** Write a Python program to calculate the square of a number."
      ]
    },
    {
      "cell_type": "code",
      "execution_count": 14,
      "metadata": {
        "colab": {
          "base_uri": "https://localhost:8080/"
        },
        "id": "rmHUvT-jCtfj",
        "outputId": "e90fd14e-3871-47c2-8ae9-63cea1d3a4b3"
      },
      "outputs": [
        {
          "output_type": "stream",
          "name": "stdout",
          "text": [
            "Enter a number: 3\n",
            "Square is: 9.0\n"
          ]
        }
      ],
      "source": [
        "num = float(input(\"Enter a number: \"))\n",
        "print(\"Square is:\", num ** 2)\n"
      ]
    },
    {
      "cell_type": "markdown",
      "metadata": {
        "id": "lIZDPBZBCtfj"
      },
      "source": [
        "**Question 15:** Write a Python program to check if a number is even or odd."
      ]
    },
    {
      "cell_type": "code",
      "execution_count": 15,
      "metadata": {
        "colab": {
          "base_uri": "https://localhost:8080/"
        },
        "id": "XWfwvdA_Ctfj",
        "outputId": "44655322-b8f8-4a81-c8ef-eaec96012cdf"
      },
      "outputs": [
        {
          "output_type": "stream",
          "name": "stdout",
          "text": [
            "Enter an integer: 3\n",
            "Odd\n"
          ]
        }
      ],
      "source": [
        "num = int(input(\"Enter an integer: \"))\n",
        "if num % 2 == 0:\n",
        "    print(\"Even\")\n",
        "else:\n",
        "    print(\"Odd\")"
      ]
    },
    {
      "cell_type": "markdown",
      "metadata": {
        "id": "0rc-z4tCCtfj"
      },
      "source": [
        "**Question 16:** Write a Python program to find the sum of the first n natural numbers."
      ]
    },
    {
      "cell_type": "code",
      "execution_count": 16,
      "metadata": {
        "colab": {
          "base_uri": "https://localhost:8080/"
        },
        "id": "7L6bv2mHCtfk",
        "outputId": "5f3505ff-33ee-426a-c3aa-ff99c9029977"
      },
      "outputs": [
        {
          "output_type": "stream",
          "name": "stdout",
          "text": [
            "Enter n: 3\n",
            "Sum of first 3 natural numbers: 6\n"
          ]
        }
      ],
      "source": [
        "n = int(input(\"Enter n: \"))\n",
        "total = n * (n + 1) // 2\n",
        "print(\"Sum of first\", n, \"natural numbers:\", total)"
      ]
    },
    {
      "cell_type": "markdown",
      "metadata": {
        "id": "EDQvLJLYCtfk"
      },
      "source": [
        "**Question 17:** Write a Python program to check if a year is a leap year."
      ]
    },
    {
      "cell_type": "code",
      "execution_count": 17,
      "metadata": {
        "colab": {
          "base_uri": "https://localhost:8080/"
        },
        "id": "uRavCADmCtfk",
        "outputId": "d0e910ec-78a2-4b8a-cba1-8c0eaa60ff67"
      },
      "outputs": [
        {
          "output_type": "stream",
          "name": "stdout",
          "text": [
            "Enter a year: 4\n",
            "Leap Year\n"
          ]
        }
      ],
      "source": [
        "year = int(input(\"Enter a year: \"))\n",
        "if (year % 4 == 0 and year % 100 != 0) or (year % 400 == 0):\n",
        "    print(\"Leap Year\")\n",
        "else:\n",
        "    print(\"Not a Leap Year\")"
      ]
    },
    {
      "cell_type": "markdown",
      "metadata": {
        "id": "pMAqo15ECtfk"
      },
      "source": [
        "**Question 18:** Write a Python program to reverse a string."
      ]
    },
    {
      "cell_type": "code",
      "execution_count": 18,
      "metadata": {
        "colab": {
          "base_uri": "https://localhost:8080/"
        },
        "id": "1Qlo8GioCtfk",
        "outputId": "65842cb2-b678-42bf-bc4d-619902f7fd65"
      },
      "outputs": [
        {
          "output_type": "stream",
          "name": "stdout",
          "text": [
            "Enter a string: hello\n",
            "Reversed string: olleh\n"
          ]
        }
      ],
      "source": [
        "text = input(\"Enter a string: \")\n",
        "print(\"Reversed string:\", text[::-1])"
      ]
    },
    {
      "cell_type": "markdown",
      "metadata": {
        "id": "_C_gIK_hCtfl"
      },
      "source": [
        "**Question 19:** Write a Python program to check if a string is a palindrome."
      ]
    },
    {
      "cell_type": "code",
      "execution_count": 19,
      "metadata": {
        "colab": {
          "base_uri": "https://localhost:8080/"
        },
        "id": "zS5Eba89Ctfl",
        "outputId": "6c35c4a1-3f35-4e97-aa07-d1e1772ef79a"
      },
      "outputs": [
        {
          "output_type": "stream",
          "name": "stdout",
          "text": [
            "Enter a string: malayalam\n",
            "Palindrome\n"
          ]
        }
      ],
      "source": [
        "word = input(\"Enter a string: \")\n",
        "if word == word[::-1]:\n",
        "    print(\"Palindrome\")\n",
        "else:\n",
        "    print(\"Not a palindrome\")"
      ]
    },
    {
      "cell_type": "markdown",
      "metadata": {
        "id": "qIZ6YNGhCtfs"
      },
      "source": [
        "**Question 20:** Write a Python program to sort a list of numbers in ascending order."
      ]
    },
    {
      "cell_type": "code",
      "execution_count": null,
      "metadata": {
        "id": "A6DGIHNlCtfs"
      },
      "outputs": [],
      "source": [
        "numbers = [34, 1, 23, 4, 3, 12]\n",
        "numbers.sort()\n",
        "print(\"Sorted list:\", numbers)"
      ]
    }
  ],
  "metadata": {
    "kernelspec": {
      "display_name": "Python 3",
      "language": "python",
      "name": "python3"
    },
    "language_info": {
      "codemirror_mode": {
        "name": "ipython",
        "version": 3
      },
      "file_extension": ".py",
      "mimetype": "text/x-python",
      "name": "python",
      "nbconvert_exporter": "python",
      "pygments_lexer": "ipython3",
      "version": "3.8.5"
    },
    "colab": {
      "provenance": []
    }
  },
  "nbformat": 4,
  "nbformat_minor": 0
}